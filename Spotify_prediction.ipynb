{
 "nbformat": 4,
 "nbformat_minor": 0,
 "metadata": {
  "colab": {
   "name": "Predicting Hits on Spotify.ipynb",
   "provenance": [],
   "collapsed_sections": [],
   "include_colab_link": true
  },
  "kernelspec": {
   "name": "python3",
   "display_name": "Python 3"
  },
  "language_info": {
   "name": "python"
  }
 },
 "cells": [
  {
   "cell_type": "code",
   "metadata": {
    "id": "sJVAFAqsVHgS",
    "ExecuteTime": {
     "end_time": "2025-06-02T10:21:18.448145Z",
     "start_time": "2025-06-02T10:21:08.824807Z"
    }
   },
   "source": [
    "import time\n",
    "import pandas as pd\n",
    "import numpy as np\n",
    "import seaborn as sns\n",
    "import matplotlib.pyplot as plt\n",
    "\n",
    "import torch\n",
    "from torch import nn\n",
    "import torch.optim as optim\n",
    "from torch.utils.data import TensorDataset, DataLoader\n",
    "\n",
    "import xgboost as xgb\n",
    "import optuna\n",
    "from catboost import CatBoostClassifier\n",
    "from sentence_transformers import SentenceTransformer\n",
    "\n",
    "from sklearn.preprocessing import StandardScaler, OneHotEncoder, TargetEncoder\n",
    "from sklearn.linear_model import LogisticRegression, Ridge\n",
    "from sklearn.neighbors import KNeighborsClassifier\n",
    "from sklearn.naive_bayes import GaussianNB\n",
    "from sklearn.discriminant_analysis import LinearDiscriminantAnalysis\n",
    "from sklearn.svm import LinearSVC, SVC\n",
    "from sklearn.compose import ColumnTransformer\n",
    "from sklearn.pipeline import Pipeline\n",
    "from sklearn.neural_network import MLPClassifier\n",
    "from sklearn.ensemble import RandomForestClassifier\n",
    "from sklearn.model_selection import cross_val_score, KFold, train_test_split\n",
    "from sklearn.metrics import accuracy_score, confusion_matrix, classification_report, f1_score, roc_auc_score, roc_curve\n",
    "\n",
    "import warnings\n",
    "from sklearn.exceptions import ConvergenceWarning\n",
    "with warnings.catch_warnings():\n",
    "    warnings.simplefilter(\"ignore\")\n",
    "    warnings.simplefilter(\"ignore\", category=ConvergenceWarning)\n",
    "\n",
    "RANDOM_STATE = 21\n",
    "torch.manual_seed(21)\n",
    "device = \"cuda\" if torch.cuda.is_available() else \"cpu\"\n",
    "device"
   ],
   "outputs": [
    {
     "name": "stderr",
     "output_type": "stream",
     "text": [
      "C:\\Users\\lambe\\miniconda3\\envs\\Spotify_prediction\\Lib\\site-packages\\tqdm\\auto.py:21: TqdmWarning: IProgress not found. Please update jupyter and ipywidgets. See https://ipywidgets.readthedocs.io/en/stable/user_install.html\n",
      "  from .autonotebook import tqdm as notebook_tqdm\n"
     ]
    },
    {
     "data": {
      "text/plain": [
       "'cuda'"
      ]
     },
     "execution_count": 1,
     "metadata": {},
     "output_type": "execute_result"
    }
   ],
   "execution_count": 1
  },
  {
   "cell_type": "markdown",
   "source": [
    "# Data Collection"
   ],
   "metadata": {
    "id": "ZFhTwgRq4po-"
   }
  },
  {
   "metadata": {},
   "cell_type": "markdown",
   "source": "Considering that music preferences have changed over the years, I assumed that the decade in which the song was released was a sign worthy of attention"
  },
  {
   "cell_type": "code",
   "source": [
    "df_60 = pd.read_csv(\"data/dataset-of-60s.csv\")\n",
    "df_60['decade_of_release'] = '60'\n",
    "df_70 = pd.read_csv(\"data/dataset-of-70s.csv\")\n",
    "df_70['decade_of_release'] = '70'\n",
    "df_80 = pd.read_csv(\"data/dataset-of-80s.csv\")\n",
    "df_80['decade_of_release'] = '80'\n",
    "df_90 = pd.read_csv(\"data/dataset-of-90s.csv\")\n",
    "df_90['decade_of_release'] = '90'\n",
    "df_00 = pd.read_csv(\"data/dataset-of-00s.csv\")\n",
    "df_00['decade_of_release'] = '0'\n",
    "df_10 = pd.read_csv(\"data/dataset-of-10s.csv\")\n",
    "df_10['decade_of_release'] = '10'\n",
    "df = pd.concat([df_00, df_10, df_60, df_70, df_80, df_90])\n",
    "df = df[['uri','track','artist','danceability','energy','key','loudness',\n",
    "  'mode','speechiness','acousticness','instrumentalness','liveness','valence','tempo','duration_ms','time_signature','chorus_hit','sections','decade_of_release','target']]\n",
    "df"
   ],
   "metadata": {
    "id": "_Eu6BrGJatgo",
    "colab": {
     "base_uri": "https://localhost:8080/",
     "height": 409
    },
    "outputId": "fda70e6d-8906-4e48-cda9-46f8158e1dfe",
    "ExecuteTime": {
     "end_time": "2025-06-02T10:21:18.730505Z",
     "start_time": "2025-06-02T10:21:18.614201Z"
    }
   },
   "outputs": [
    {
     "data": {
      "text/plain": [
       "                                       uri  \\\n",
       "0     spotify:track:4GiXBCUF7H6YfNQsnBRIzl   \n",
       "1     spotify:track:1zyqZONW985Cs4osz9wlsu   \n",
       "2     spotify:track:6cHZf7RbxXCKwEkgAZT4mY   \n",
       "3     spotify:track:2IjBPp2vMeX7LggzRN3iSX   \n",
       "4     spotify:track:1tF370eYXUcWwkIvaq3IGz   \n",
       "...                                    ...   \n",
       "5515  spotify:track:4e86fqSFhqRQk3Z9hm7XHt   \n",
       "5516  spotify:track:43DFcnOZprnVlAFKwgBJ3e   \n",
       "5517  spotify:track:6UPfnVoOq3y3BvapBIKs8J   \n",
       "5518  spotify:track:2Ao3Wi4raEOQfKQiU9EU8y   \n",
       "5519  spotify:track:3ca91BX2k7GSzEUsx1mPgI   \n",
       "\n",
       "                                   track             artist  danceability  \\\n",
       "0                              Lucky Man  Montgomery Gentry         0.578   \n",
       "1                         On The Hotline       Pretty Ricky         0.704   \n",
       "2                     Clouds Of Dementia         Candlemass         0.162   \n",
       "3               Heavy Metal, Raise Hell!      Zwartketterij         0.188   \n",
       "4                        I Got A Feelin'   Billy Currington         0.630   \n",
       "...                                  ...                ...           ...   \n",
       "5515               (You're A) Go Nowhere       Reagan Youth         0.396   \n",
       "5516                  La Fiebre de Norma       La Castañeda         0.621   \n",
       "5517                          Good Times      Edie Brickell         0.562   \n",
       "5518                               Inane              KMFDM         0.622   \n",
       "5519  You Can Make History (Young Again)         Elton John         0.664   \n",
       "\n",
       "      energy  key  loudness  mode  speechiness  acousticness  \\\n",
       "0      0.471    4    -7.270     1       0.0289      0.368000   \n",
       "1      0.854   10    -5.477     0       0.1830      0.018500   \n",
       "2      0.836    9    -3.009     1       0.0473      0.000111   \n",
       "3      0.994    4    -3.745     1       0.1660      0.000007   \n",
       "4      0.764    2    -4.353     1       0.0275      0.363000   \n",
       "...      ...  ...       ...   ...          ...           ...   \n",
       "5515   0.795    9    -6.070     0       0.2340      0.000928   \n",
       "5516   0.655    9    -6.281     0       0.0309      0.050600   \n",
       "5517   0.314   10   -15.213     0       0.0298      0.440000   \n",
       "5518   0.781    7    -6.080     1       0.0368      0.000101   \n",
       "5519   0.739    2    -9.005     1       0.0262      0.106000   \n",
       "\n",
       "      instrumentalness  liveness  valence    tempo  duration_ms  \\\n",
       "0             0.000000    0.1590    0.532  133.061       196707   \n",
       "1             0.000000    0.1480    0.688   92.988       242587   \n",
       "2             0.004570    0.1740    0.300   86.964       338893   \n",
       "3             0.078400    0.1920    0.333  148.440       255667   \n",
       "4             0.000000    0.1250    0.631  112.098       193760   \n",
       "...                ...       ...      ...      ...          ...   \n",
       "5515          0.000209    0.1820    0.762  152.943        82107   \n",
       "5516          0.006260    0.0937    0.690  134.167       211653   \n",
       "5517          0.000011    0.1060    0.571  166.847       189827   \n",
       "5518          0.755000    0.3830    0.214  120.051       330053   \n",
       "5519          0.054200    0.3330    0.458   92.257       293973   \n",
       "\n",
       "      time_signature  chorus_hit  sections decade_of_release  target  \n",
       "0                  4    30.88059        13                 0       1  \n",
       "1                  4    41.51106        10                 0       1  \n",
       "2                  4    65.32887        13                 0       0  \n",
       "3                  4    58.59528         9                 0       0  \n",
       "4                  4    22.62384        10                 0       1  \n",
       "...              ...         ...       ...               ...     ...  \n",
       "5515               4    30.34109         6                90       0  \n",
       "5516               4    34.89506        10                90       0  \n",
       "5517               4    21.11763        10                90       1  \n",
       "5518               4    47.13558        11                90       0  \n",
       "5519               4    42.50341        14                90       1  \n",
       "\n",
       "[41106 rows x 20 columns]"
      ],
      "text/html": [
       "<div>\n",
       "<style scoped>\n",
       "    .dataframe tbody tr th:only-of-type {\n",
       "        vertical-align: middle;\n",
       "    }\n",
       "\n",
       "    .dataframe tbody tr th {\n",
       "        vertical-align: top;\n",
       "    }\n",
       "\n",
       "    .dataframe thead th {\n",
       "        text-align: right;\n",
       "    }\n",
       "</style>\n",
       "<table border=\"1\" class=\"dataframe\">\n",
       "  <thead>\n",
       "    <tr style=\"text-align: right;\">\n",
       "      <th></th>\n",
       "      <th>uri</th>\n",
       "      <th>track</th>\n",
       "      <th>artist</th>\n",
       "      <th>danceability</th>\n",
       "      <th>energy</th>\n",
       "      <th>key</th>\n",
       "      <th>loudness</th>\n",
       "      <th>mode</th>\n",
       "      <th>speechiness</th>\n",
       "      <th>acousticness</th>\n",
       "      <th>instrumentalness</th>\n",
       "      <th>liveness</th>\n",
       "      <th>valence</th>\n",
       "      <th>tempo</th>\n",
       "      <th>duration_ms</th>\n",
       "      <th>time_signature</th>\n",
       "      <th>chorus_hit</th>\n",
       "      <th>sections</th>\n",
       "      <th>decade_of_release</th>\n",
       "      <th>target</th>\n",
       "    </tr>\n",
       "  </thead>\n",
       "  <tbody>\n",
       "    <tr>\n",
       "      <th>0</th>\n",
       "      <td>spotify:track:4GiXBCUF7H6YfNQsnBRIzl</td>\n",
       "      <td>Lucky Man</td>\n",
       "      <td>Montgomery Gentry</td>\n",
       "      <td>0.578</td>\n",
       "      <td>0.471</td>\n",
       "      <td>4</td>\n",
       "      <td>-7.270</td>\n",
       "      <td>1</td>\n",
       "      <td>0.0289</td>\n",
       "      <td>0.368000</td>\n",
       "      <td>0.000000</td>\n",
       "      <td>0.1590</td>\n",
       "      <td>0.532</td>\n",
       "      <td>133.061</td>\n",
       "      <td>196707</td>\n",
       "      <td>4</td>\n",
       "      <td>30.88059</td>\n",
       "      <td>13</td>\n",
       "      <td>0</td>\n",
       "      <td>1</td>\n",
       "    </tr>\n",
       "    <tr>\n",
       "      <th>1</th>\n",
       "      <td>spotify:track:1zyqZONW985Cs4osz9wlsu</td>\n",
       "      <td>On The Hotline</td>\n",
       "      <td>Pretty Ricky</td>\n",
       "      <td>0.704</td>\n",
       "      <td>0.854</td>\n",
       "      <td>10</td>\n",
       "      <td>-5.477</td>\n",
       "      <td>0</td>\n",
       "      <td>0.1830</td>\n",
       "      <td>0.018500</td>\n",
       "      <td>0.000000</td>\n",
       "      <td>0.1480</td>\n",
       "      <td>0.688</td>\n",
       "      <td>92.988</td>\n",
       "      <td>242587</td>\n",
       "      <td>4</td>\n",
       "      <td>41.51106</td>\n",
       "      <td>10</td>\n",
       "      <td>0</td>\n",
       "      <td>1</td>\n",
       "    </tr>\n",
       "    <tr>\n",
       "      <th>2</th>\n",
       "      <td>spotify:track:6cHZf7RbxXCKwEkgAZT4mY</td>\n",
       "      <td>Clouds Of Dementia</td>\n",
       "      <td>Candlemass</td>\n",
       "      <td>0.162</td>\n",
       "      <td>0.836</td>\n",
       "      <td>9</td>\n",
       "      <td>-3.009</td>\n",
       "      <td>1</td>\n",
       "      <td>0.0473</td>\n",
       "      <td>0.000111</td>\n",
       "      <td>0.004570</td>\n",
       "      <td>0.1740</td>\n",
       "      <td>0.300</td>\n",
       "      <td>86.964</td>\n",
       "      <td>338893</td>\n",
       "      <td>4</td>\n",
       "      <td>65.32887</td>\n",
       "      <td>13</td>\n",
       "      <td>0</td>\n",
       "      <td>0</td>\n",
       "    </tr>\n",
       "    <tr>\n",
       "      <th>3</th>\n",
       "      <td>spotify:track:2IjBPp2vMeX7LggzRN3iSX</td>\n",
       "      <td>Heavy Metal, Raise Hell!</td>\n",
       "      <td>Zwartketterij</td>\n",
       "      <td>0.188</td>\n",
       "      <td>0.994</td>\n",
       "      <td>4</td>\n",
       "      <td>-3.745</td>\n",
       "      <td>1</td>\n",
       "      <td>0.1660</td>\n",
       "      <td>0.000007</td>\n",
       "      <td>0.078400</td>\n",
       "      <td>0.1920</td>\n",
       "      <td>0.333</td>\n",
       "      <td>148.440</td>\n",
       "      <td>255667</td>\n",
       "      <td>4</td>\n",
       "      <td>58.59528</td>\n",
       "      <td>9</td>\n",
       "      <td>0</td>\n",
       "      <td>0</td>\n",
       "    </tr>\n",
       "    <tr>\n",
       "      <th>4</th>\n",
       "      <td>spotify:track:1tF370eYXUcWwkIvaq3IGz</td>\n",
       "      <td>I Got A Feelin'</td>\n",
       "      <td>Billy Currington</td>\n",
       "      <td>0.630</td>\n",
       "      <td>0.764</td>\n",
       "      <td>2</td>\n",
       "      <td>-4.353</td>\n",
       "      <td>1</td>\n",
       "      <td>0.0275</td>\n",
       "      <td>0.363000</td>\n",
       "      <td>0.000000</td>\n",
       "      <td>0.1250</td>\n",
       "      <td>0.631</td>\n",
       "      <td>112.098</td>\n",
       "      <td>193760</td>\n",
       "      <td>4</td>\n",
       "      <td>22.62384</td>\n",
       "      <td>10</td>\n",
       "      <td>0</td>\n",
       "      <td>1</td>\n",
       "    </tr>\n",
       "    <tr>\n",
       "      <th>...</th>\n",
       "      <td>...</td>\n",
       "      <td>...</td>\n",
       "      <td>...</td>\n",
       "      <td>...</td>\n",
       "      <td>...</td>\n",
       "      <td>...</td>\n",
       "      <td>...</td>\n",
       "      <td>...</td>\n",
       "      <td>...</td>\n",
       "      <td>...</td>\n",
       "      <td>...</td>\n",
       "      <td>...</td>\n",
       "      <td>...</td>\n",
       "      <td>...</td>\n",
       "      <td>...</td>\n",
       "      <td>...</td>\n",
       "      <td>...</td>\n",
       "      <td>...</td>\n",
       "      <td>...</td>\n",
       "      <td>...</td>\n",
       "    </tr>\n",
       "    <tr>\n",
       "      <th>5515</th>\n",
       "      <td>spotify:track:4e86fqSFhqRQk3Z9hm7XHt</td>\n",
       "      <td>(You're A) Go Nowhere</td>\n",
       "      <td>Reagan Youth</td>\n",
       "      <td>0.396</td>\n",
       "      <td>0.795</td>\n",
       "      <td>9</td>\n",
       "      <td>-6.070</td>\n",
       "      <td>0</td>\n",
       "      <td>0.2340</td>\n",
       "      <td>0.000928</td>\n",
       "      <td>0.000209</td>\n",
       "      <td>0.1820</td>\n",
       "      <td>0.762</td>\n",
       "      <td>152.943</td>\n",
       "      <td>82107</td>\n",
       "      <td>4</td>\n",
       "      <td>30.34109</td>\n",
       "      <td>6</td>\n",
       "      <td>90</td>\n",
       "      <td>0</td>\n",
       "    </tr>\n",
       "    <tr>\n",
       "      <th>5516</th>\n",
       "      <td>spotify:track:43DFcnOZprnVlAFKwgBJ3e</td>\n",
       "      <td>La Fiebre de Norma</td>\n",
       "      <td>La Castañeda</td>\n",
       "      <td>0.621</td>\n",
       "      <td>0.655</td>\n",
       "      <td>9</td>\n",
       "      <td>-6.281</td>\n",
       "      <td>0</td>\n",
       "      <td>0.0309</td>\n",
       "      <td>0.050600</td>\n",
       "      <td>0.006260</td>\n",
       "      <td>0.0937</td>\n",
       "      <td>0.690</td>\n",
       "      <td>134.167</td>\n",
       "      <td>211653</td>\n",
       "      <td>4</td>\n",
       "      <td>34.89506</td>\n",
       "      <td>10</td>\n",
       "      <td>90</td>\n",
       "      <td>0</td>\n",
       "    </tr>\n",
       "    <tr>\n",
       "      <th>5517</th>\n",
       "      <td>spotify:track:6UPfnVoOq3y3BvapBIKs8J</td>\n",
       "      <td>Good Times</td>\n",
       "      <td>Edie Brickell</td>\n",
       "      <td>0.562</td>\n",
       "      <td>0.314</td>\n",
       "      <td>10</td>\n",
       "      <td>-15.213</td>\n",
       "      <td>0</td>\n",
       "      <td>0.0298</td>\n",
       "      <td>0.440000</td>\n",
       "      <td>0.000011</td>\n",
       "      <td>0.1060</td>\n",
       "      <td>0.571</td>\n",
       "      <td>166.847</td>\n",
       "      <td>189827</td>\n",
       "      <td>4</td>\n",
       "      <td>21.11763</td>\n",
       "      <td>10</td>\n",
       "      <td>90</td>\n",
       "      <td>1</td>\n",
       "    </tr>\n",
       "    <tr>\n",
       "      <th>5518</th>\n",
       "      <td>spotify:track:2Ao3Wi4raEOQfKQiU9EU8y</td>\n",
       "      <td>Inane</td>\n",
       "      <td>KMFDM</td>\n",
       "      <td>0.622</td>\n",
       "      <td>0.781</td>\n",
       "      <td>7</td>\n",
       "      <td>-6.080</td>\n",
       "      <td>1</td>\n",
       "      <td>0.0368</td>\n",
       "      <td>0.000101</td>\n",
       "      <td>0.755000</td>\n",
       "      <td>0.3830</td>\n",
       "      <td>0.214</td>\n",
       "      <td>120.051</td>\n",
       "      <td>330053</td>\n",
       "      <td>4</td>\n",
       "      <td>47.13558</td>\n",
       "      <td>11</td>\n",
       "      <td>90</td>\n",
       "      <td>0</td>\n",
       "    </tr>\n",
       "    <tr>\n",
       "      <th>5519</th>\n",
       "      <td>spotify:track:3ca91BX2k7GSzEUsx1mPgI</td>\n",
       "      <td>You Can Make History (Young Again)</td>\n",
       "      <td>Elton John</td>\n",
       "      <td>0.664</td>\n",
       "      <td>0.739</td>\n",
       "      <td>2</td>\n",
       "      <td>-9.005</td>\n",
       "      <td>1</td>\n",
       "      <td>0.0262</td>\n",
       "      <td>0.106000</td>\n",
       "      <td>0.054200</td>\n",
       "      <td>0.3330</td>\n",
       "      <td>0.458</td>\n",
       "      <td>92.257</td>\n",
       "      <td>293973</td>\n",
       "      <td>4</td>\n",
       "      <td>42.50341</td>\n",
       "      <td>14</td>\n",
       "      <td>90</td>\n",
       "      <td>1</td>\n",
       "    </tr>\n",
       "  </tbody>\n",
       "</table>\n",
       "<p>41106 rows × 20 columns</p>\n",
       "</div>"
      ]
     },
     "execution_count": 2,
     "metadata": {},
     "output_type": "execute_result"
    }
   ],
   "execution_count": 2
  },
  {
   "cell_type": "markdown",
   "source": [
    "# Preprocessing"
   ],
   "metadata": {
    "id": "UabFu0Pw6n-b"
   }
  },
  {
   "cell_type": "markdown",
   "source": [
    "Finding the number of rows and columns"
   ],
   "metadata": {
    "id": "HkjFsHn56e-L"
   }
  },
  {
   "cell_type": "code",
   "source": [
    "df.shape"
   ],
   "metadata": {
    "id": "5ID6Qjz16TGL",
    "colab": {
     "base_uri": "https://localhost:8080/"
    },
    "outputId": "2615fc50-e5d6-4202-98d5-65d9dfa73297",
    "ExecuteTime": {
     "end_time": "2025-06-02T10:21:18.793861Z",
     "start_time": "2025-06-02T10:21:18.788749Z"
    }
   },
   "outputs": [
    {
     "data": {
      "text/plain": [
       "(41106, 20)"
      ]
     },
     "execution_count": 3,
     "metadata": {},
     "output_type": "execute_result"
    }
   ],
   "execution_count": 3
  },
  {
   "metadata": {},
   "cell_type": "markdown",
   "source": "searching for unique artists and track names"
  },
  {
   "metadata": {
    "ExecuteTime": {
     "end_time": "2025-06-02T10:21:18.864415Z",
     "start_time": "2025-06-02T10:21:18.849794Z"
    }
   },
   "cell_type": "code",
   "source": "print(f'Unique artists - {len(df['artist'].unique())}\\nUnique track names - {len(df['track'].unique())}')",
   "outputs": [
    {
     "name": "stdout",
     "output_type": "stream",
     "text": [
      "Unique artists - 11904\n",
      "Unique track names - 35860\n"
     ]
    }
   ],
   "execution_count": 4
  },
  {
   "cell_type": "markdown",
   "source": [
    "Exploring data types and checking for nulls"
   ],
   "metadata": {
    "id": "p0TkXcOp6iwa"
   }
  },
  {
   "cell_type": "code",
   "source": "df",
   "metadata": {
    "id": "dK4wU1t9ck5Z",
    "colab": {
     "base_uri": "https://localhost:8080/"
    },
    "outputId": "0c145b36-f528-4abc-87c7-2de4a0b4532c",
    "ExecuteTime": {
     "end_time": "2025-06-02T10:21:18.933643Z",
     "start_time": "2025-06-02T10:21:18.918795Z"
    }
   },
   "outputs": [
    {
     "data": {
      "text/plain": [
       "                                       uri  \\\n",
       "0     spotify:track:4GiXBCUF7H6YfNQsnBRIzl   \n",
       "1     spotify:track:1zyqZONW985Cs4osz9wlsu   \n",
       "2     spotify:track:6cHZf7RbxXCKwEkgAZT4mY   \n",
       "3     spotify:track:2IjBPp2vMeX7LggzRN3iSX   \n",
       "4     spotify:track:1tF370eYXUcWwkIvaq3IGz   \n",
       "...                                    ...   \n",
       "5515  spotify:track:4e86fqSFhqRQk3Z9hm7XHt   \n",
       "5516  spotify:track:43DFcnOZprnVlAFKwgBJ3e   \n",
       "5517  spotify:track:6UPfnVoOq3y3BvapBIKs8J   \n",
       "5518  spotify:track:2Ao3Wi4raEOQfKQiU9EU8y   \n",
       "5519  spotify:track:3ca91BX2k7GSzEUsx1mPgI   \n",
       "\n",
       "                                   track             artist  danceability  \\\n",
       "0                              Lucky Man  Montgomery Gentry         0.578   \n",
       "1                         On The Hotline       Pretty Ricky         0.704   \n",
       "2                     Clouds Of Dementia         Candlemass         0.162   \n",
       "3               Heavy Metal, Raise Hell!      Zwartketterij         0.188   \n",
       "4                        I Got A Feelin'   Billy Currington         0.630   \n",
       "...                                  ...                ...           ...   \n",
       "5515               (You're A) Go Nowhere       Reagan Youth         0.396   \n",
       "5516                  La Fiebre de Norma       La Castañeda         0.621   \n",
       "5517                          Good Times      Edie Brickell         0.562   \n",
       "5518                               Inane              KMFDM         0.622   \n",
       "5519  You Can Make History (Young Again)         Elton John         0.664   \n",
       "\n",
       "      energy  key  loudness  mode  speechiness  acousticness  \\\n",
       "0      0.471    4    -7.270     1       0.0289      0.368000   \n",
       "1      0.854   10    -5.477     0       0.1830      0.018500   \n",
       "2      0.836    9    -3.009     1       0.0473      0.000111   \n",
       "3      0.994    4    -3.745     1       0.1660      0.000007   \n",
       "4      0.764    2    -4.353     1       0.0275      0.363000   \n",
       "...      ...  ...       ...   ...          ...           ...   \n",
       "5515   0.795    9    -6.070     0       0.2340      0.000928   \n",
       "5516   0.655    9    -6.281     0       0.0309      0.050600   \n",
       "5517   0.314   10   -15.213     0       0.0298      0.440000   \n",
       "5518   0.781    7    -6.080     1       0.0368      0.000101   \n",
       "5519   0.739    2    -9.005     1       0.0262      0.106000   \n",
       "\n",
       "      instrumentalness  liveness  valence    tempo  duration_ms  \\\n",
       "0             0.000000    0.1590    0.532  133.061       196707   \n",
       "1             0.000000    0.1480    0.688   92.988       242587   \n",
       "2             0.004570    0.1740    0.300   86.964       338893   \n",
       "3             0.078400    0.1920    0.333  148.440       255667   \n",
       "4             0.000000    0.1250    0.631  112.098       193760   \n",
       "...                ...       ...      ...      ...          ...   \n",
       "5515          0.000209    0.1820    0.762  152.943        82107   \n",
       "5516          0.006260    0.0937    0.690  134.167       211653   \n",
       "5517          0.000011    0.1060    0.571  166.847       189827   \n",
       "5518          0.755000    0.3830    0.214  120.051       330053   \n",
       "5519          0.054200    0.3330    0.458   92.257       293973   \n",
       "\n",
       "      time_signature  chorus_hit  sections decade_of_release  target  \n",
       "0                  4    30.88059        13                 0       1  \n",
       "1                  4    41.51106        10                 0       1  \n",
       "2                  4    65.32887        13                 0       0  \n",
       "3                  4    58.59528         9                 0       0  \n",
       "4                  4    22.62384        10                 0       1  \n",
       "...              ...         ...       ...               ...     ...  \n",
       "5515               4    30.34109         6                90       0  \n",
       "5516               4    34.89506        10                90       0  \n",
       "5517               4    21.11763        10                90       1  \n",
       "5518               4    47.13558        11                90       0  \n",
       "5519               4    42.50341        14                90       1  \n",
       "\n",
       "[41106 rows x 20 columns]"
      ],
      "text/html": [
       "<div>\n",
       "<style scoped>\n",
       "    .dataframe tbody tr th:only-of-type {\n",
       "        vertical-align: middle;\n",
       "    }\n",
       "\n",
       "    .dataframe tbody tr th {\n",
       "        vertical-align: top;\n",
       "    }\n",
       "\n",
       "    .dataframe thead th {\n",
       "        text-align: right;\n",
       "    }\n",
       "</style>\n",
       "<table border=\"1\" class=\"dataframe\">\n",
       "  <thead>\n",
       "    <tr style=\"text-align: right;\">\n",
       "      <th></th>\n",
       "      <th>uri</th>\n",
       "      <th>track</th>\n",
       "      <th>artist</th>\n",
       "      <th>danceability</th>\n",
       "      <th>energy</th>\n",
       "      <th>key</th>\n",
       "      <th>loudness</th>\n",
       "      <th>mode</th>\n",
       "      <th>speechiness</th>\n",
       "      <th>acousticness</th>\n",
       "      <th>instrumentalness</th>\n",
       "      <th>liveness</th>\n",
       "      <th>valence</th>\n",
       "      <th>tempo</th>\n",
       "      <th>duration_ms</th>\n",
       "      <th>time_signature</th>\n",
       "      <th>chorus_hit</th>\n",
       "      <th>sections</th>\n",
       "      <th>decade_of_release</th>\n",
       "      <th>target</th>\n",
       "    </tr>\n",
       "  </thead>\n",
       "  <tbody>\n",
       "    <tr>\n",
       "      <th>0</th>\n",
       "      <td>spotify:track:4GiXBCUF7H6YfNQsnBRIzl</td>\n",
       "      <td>Lucky Man</td>\n",
       "      <td>Montgomery Gentry</td>\n",
       "      <td>0.578</td>\n",
       "      <td>0.471</td>\n",
       "      <td>4</td>\n",
       "      <td>-7.270</td>\n",
       "      <td>1</td>\n",
       "      <td>0.0289</td>\n",
       "      <td>0.368000</td>\n",
       "      <td>0.000000</td>\n",
       "      <td>0.1590</td>\n",
       "      <td>0.532</td>\n",
       "      <td>133.061</td>\n",
       "      <td>196707</td>\n",
       "      <td>4</td>\n",
       "      <td>30.88059</td>\n",
       "      <td>13</td>\n",
       "      <td>0</td>\n",
       "      <td>1</td>\n",
       "    </tr>\n",
       "    <tr>\n",
       "      <th>1</th>\n",
       "      <td>spotify:track:1zyqZONW985Cs4osz9wlsu</td>\n",
       "      <td>On The Hotline</td>\n",
       "      <td>Pretty Ricky</td>\n",
       "      <td>0.704</td>\n",
       "      <td>0.854</td>\n",
       "      <td>10</td>\n",
       "      <td>-5.477</td>\n",
       "      <td>0</td>\n",
       "      <td>0.1830</td>\n",
       "      <td>0.018500</td>\n",
       "      <td>0.000000</td>\n",
       "      <td>0.1480</td>\n",
       "      <td>0.688</td>\n",
       "      <td>92.988</td>\n",
       "      <td>242587</td>\n",
       "      <td>4</td>\n",
       "      <td>41.51106</td>\n",
       "      <td>10</td>\n",
       "      <td>0</td>\n",
       "      <td>1</td>\n",
       "    </tr>\n",
       "    <tr>\n",
       "      <th>2</th>\n",
       "      <td>spotify:track:6cHZf7RbxXCKwEkgAZT4mY</td>\n",
       "      <td>Clouds Of Dementia</td>\n",
       "      <td>Candlemass</td>\n",
       "      <td>0.162</td>\n",
       "      <td>0.836</td>\n",
       "      <td>9</td>\n",
       "      <td>-3.009</td>\n",
       "      <td>1</td>\n",
       "      <td>0.0473</td>\n",
       "      <td>0.000111</td>\n",
       "      <td>0.004570</td>\n",
       "      <td>0.1740</td>\n",
       "      <td>0.300</td>\n",
       "      <td>86.964</td>\n",
       "      <td>338893</td>\n",
       "      <td>4</td>\n",
       "      <td>65.32887</td>\n",
       "      <td>13</td>\n",
       "      <td>0</td>\n",
       "      <td>0</td>\n",
       "    </tr>\n",
       "    <tr>\n",
       "      <th>3</th>\n",
       "      <td>spotify:track:2IjBPp2vMeX7LggzRN3iSX</td>\n",
       "      <td>Heavy Metal, Raise Hell!</td>\n",
       "      <td>Zwartketterij</td>\n",
       "      <td>0.188</td>\n",
       "      <td>0.994</td>\n",
       "      <td>4</td>\n",
       "      <td>-3.745</td>\n",
       "      <td>1</td>\n",
       "      <td>0.1660</td>\n",
       "      <td>0.000007</td>\n",
       "      <td>0.078400</td>\n",
       "      <td>0.1920</td>\n",
       "      <td>0.333</td>\n",
       "      <td>148.440</td>\n",
       "      <td>255667</td>\n",
       "      <td>4</td>\n",
       "      <td>58.59528</td>\n",
       "      <td>9</td>\n",
       "      <td>0</td>\n",
       "      <td>0</td>\n",
       "    </tr>\n",
       "    <tr>\n",
       "      <th>4</th>\n",
       "      <td>spotify:track:1tF370eYXUcWwkIvaq3IGz</td>\n",
       "      <td>I Got A Feelin'</td>\n",
       "      <td>Billy Currington</td>\n",
       "      <td>0.630</td>\n",
       "      <td>0.764</td>\n",
       "      <td>2</td>\n",
       "      <td>-4.353</td>\n",
       "      <td>1</td>\n",
       "      <td>0.0275</td>\n",
       "      <td>0.363000</td>\n",
       "      <td>0.000000</td>\n",
       "      <td>0.1250</td>\n",
       "      <td>0.631</td>\n",
       "      <td>112.098</td>\n",
       "      <td>193760</td>\n",
       "      <td>4</td>\n",
       "      <td>22.62384</td>\n",
       "      <td>10</td>\n",
       "      <td>0</td>\n",
       "      <td>1</td>\n",
       "    </tr>\n",
       "    <tr>\n",
       "      <th>...</th>\n",
       "      <td>...</td>\n",
       "      <td>...</td>\n",
       "      <td>...</td>\n",
       "      <td>...</td>\n",
       "      <td>...</td>\n",
       "      <td>...</td>\n",
       "      <td>...</td>\n",
       "      <td>...</td>\n",
       "      <td>...</td>\n",
       "      <td>...</td>\n",
       "      <td>...</td>\n",
       "      <td>...</td>\n",
       "      <td>...</td>\n",
       "      <td>...</td>\n",
       "      <td>...</td>\n",
       "      <td>...</td>\n",
       "      <td>...</td>\n",
       "      <td>...</td>\n",
       "      <td>...</td>\n",
       "      <td>...</td>\n",
       "    </tr>\n",
       "    <tr>\n",
       "      <th>5515</th>\n",
       "      <td>spotify:track:4e86fqSFhqRQk3Z9hm7XHt</td>\n",
       "      <td>(You're A) Go Nowhere</td>\n",
       "      <td>Reagan Youth</td>\n",
       "      <td>0.396</td>\n",
       "      <td>0.795</td>\n",
       "      <td>9</td>\n",
       "      <td>-6.070</td>\n",
       "      <td>0</td>\n",
       "      <td>0.2340</td>\n",
       "      <td>0.000928</td>\n",
       "      <td>0.000209</td>\n",
       "      <td>0.1820</td>\n",
       "      <td>0.762</td>\n",
       "      <td>152.943</td>\n",
       "      <td>82107</td>\n",
       "      <td>4</td>\n",
       "      <td>30.34109</td>\n",
       "      <td>6</td>\n",
       "      <td>90</td>\n",
       "      <td>0</td>\n",
       "    </tr>\n",
       "    <tr>\n",
       "      <th>5516</th>\n",
       "      <td>spotify:track:43DFcnOZprnVlAFKwgBJ3e</td>\n",
       "      <td>La Fiebre de Norma</td>\n",
       "      <td>La Castañeda</td>\n",
       "      <td>0.621</td>\n",
       "      <td>0.655</td>\n",
       "      <td>9</td>\n",
       "      <td>-6.281</td>\n",
       "      <td>0</td>\n",
       "      <td>0.0309</td>\n",
       "      <td>0.050600</td>\n",
       "      <td>0.006260</td>\n",
       "      <td>0.0937</td>\n",
       "      <td>0.690</td>\n",
       "      <td>134.167</td>\n",
       "      <td>211653</td>\n",
       "      <td>4</td>\n",
       "      <td>34.89506</td>\n",
       "      <td>10</td>\n",
       "      <td>90</td>\n",
       "      <td>0</td>\n",
       "    </tr>\n",
       "    <tr>\n",
       "      <th>5517</th>\n",
       "      <td>spotify:track:6UPfnVoOq3y3BvapBIKs8J</td>\n",
       "      <td>Good Times</td>\n",
       "      <td>Edie Brickell</td>\n",
       "      <td>0.562</td>\n",
       "      <td>0.314</td>\n",
       "      <td>10</td>\n",
       "      <td>-15.213</td>\n",
       "      <td>0</td>\n",
       "      <td>0.0298</td>\n",
       "      <td>0.440000</td>\n",
       "      <td>0.000011</td>\n",
       "      <td>0.1060</td>\n",
       "      <td>0.571</td>\n",
       "      <td>166.847</td>\n",
       "      <td>189827</td>\n",
       "      <td>4</td>\n",
       "      <td>21.11763</td>\n",
       "      <td>10</td>\n",
       "      <td>90</td>\n",
       "      <td>1</td>\n",
       "    </tr>\n",
       "    <tr>\n",
       "      <th>5518</th>\n",
       "      <td>spotify:track:2Ao3Wi4raEOQfKQiU9EU8y</td>\n",
       "      <td>Inane</td>\n",
       "      <td>KMFDM</td>\n",
       "      <td>0.622</td>\n",
       "      <td>0.781</td>\n",
       "      <td>7</td>\n",
       "      <td>-6.080</td>\n",
       "      <td>1</td>\n",
       "      <td>0.0368</td>\n",
       "      <td>0.000101</td>\n",
       "      <td>0.755000</td>\n",
       "      <td>0.3830</td>\n",
       "      <td>0.214</td>\n",
       "      <td>120.051</td>\n",
       "      <td>330053</td>\n",
       "      <td>4</td>\n",
       "      <td>47.13558</td>\n",
       "      <td>11</td>\n",
       "      <td>90</td>\n",
       "      <td>0</td>\n",
       "    </tr>\n",
       "    <tr>\n",
       "      <th>5519</th>\n",
       "      <td>spotify:track:3ca91BX2k7GSzEUsx1mPgI</td>\n",
       "      <td>You Can Make History (Young Again)</td>\n",
       "      <td>Elton John</td>\n",
       "      <td>0.664</td>\n",
       "      <td>0.739</td>\n",
       "      <td>2</td>\n",
       "      <td>-9.005</td>\n",
       "      <td>1</td>\n",
       "      <td>0.0262</td>\n",
       "      <td>0.106000</td>\n",
       "      <td>0.054200</td>\n",
       "      <td>0.3330</td>\n",
       "      <td>0.458</td>\n",
       "      <td>92.257</td>\n",
       "      <td>293973</td>\n",
       "      <td>4</td>\n",
       "      <td>42.50341</td>\n",
       "      <td>14</td>\n",
       "      <td>90</td>\n",
       "      <td>1</td>\n",
       "    </tr>\n",
       "  </tbody>\n",
       "</table>\n",
       "<p>41106 rows × 20 columns</p>\n",
       "</div>"
      ]
     },
     "execution_count": 5,
     "metadata": {},
     "output_type": "execute_result"
    }
   ],
   "execution_count": 5
  },
  {
   "cell_type": "markdown",
   "source": [
    "Checking for nulls again. Making doubly sure"
   ],
   "metadata": {
    "id": "sqHgdlUf6zB4"
   }
  },
  {
   "cell_type": "code",
   "source": [
    "df.isnull().sum()"
   ],
   "metadata": {
    "id": "SL7OQreU6vgD",
    "colab": {
     "base_uri": "https://localhost:8080/"
    },
    "outputId": "46762202-1ada-49ff-ad4f-1282c6f5dab2",
    "ExecuteTime": {
     "end_time": "2025-06-02T10:21:19.005703Z",
     "start_time": "2025-06-02T10:21:18.992778Z"
    }
   },
   "outputs": [
    {
     "data": {
      "text/plain": [
       "uri                  0\n",
       "track                0\n",
       "artist               0\n",
       "danceability         0\n",
       "energy               0\n",
       "key                  0\n",
       "loudness             0\n",
       "mode                 0\n",
       "speechiness          0\n",
       "acousticness         0\n",
       "instrumentalness     0\n",
       "liveness             0\n",
       "valence              0\n",
       "tempo                0\n",
       "duration_ms          0\n",
       "time_signature       0\n",
       "chorus_hit           0\n",
       "sections             0\n",
       "decade_of_release    0\n",
       "target               0\n",
       "dtype: int64"
      ]
     },
     "execution_count": 6,
     "metadata": {},
     "output_type": "execute_result"
    }
   ],
   "execution_count": 6
  },
  {
   "cell_type": "markdown",
   "source": [
    "We can see that there are no null values in the dataset. Taking the rough statistics of the data."
   ],
   "metadata": {
    "id": "uy2WDLw44ZrR"
   }
  },
  {
   "cell_type": "code",
   "source": [
    "df.describe()"
   ],
   "metadata": {
    "colab": {
     "base_uri": "https://localhost:8080/",
     "height": 364
    },
    "id": "ou4-vQYsjllp",
    "outputId": "55322fe1-96bf-4089-b7a2-396c3a2617da",
    "ExecuteTime": {
     "end_time": "2025-06-02T10:21:19.126097Z",
     "start_time": "2025-06-02T10:21:19.081541Z"
    }
   },
   "outputs": [
    {
     "data": {
      "text/plain": [
       "       danceability        energy           key      loudness          mode  \\\n",
       "count  41106.000000  41106.000000  41106.000000  41106.000000  41106.000000   \n",
       "mean       0.539695      0.579545      5.213594    -10.221525      0.693354   \n",
       "std        0.177821      0.252628      3.534977      5.311626      0.461107   \n",
       "min        0.000000      0.000251      0.000000    -49.253000      0.000000   \n",
       "25%        0.420000      0.396000      2.000000    -12.816000      0.000000   \n",
       "50%        0.552000      0.601000      5.000000     -9.257000      1.000000   \n",
       "75%        0.669000      0.787000      8.000000     -6.374250      1.000000   \n",
       "max        0.988000      1.000000     11.000000      3.744000      1.000000   \n",
       "\n",
       "        speechiness  acousticness  instrumentalness      liveness  \\\n",
       "count  41106.000000  41106.000000      41106.000000  41106.000000   \n",
       "mean       0.072960      0.364197          0.154416      0.201535   \n",
       "std        0.086112      0.338913          0.303530      0.172959   \n",
       "min        0.000000      0.000000          0.000000      0.013000   \n",
       "25%        0.033700      0.039400          0.000000      0.094000   \n",
       "50%        0.043400      0.258000          0.000120      0.132000   \n",
       "75%        0.069800      0.676000          0.061250      0.261000   \n",
       "max        0.960000      0.996000          1.000000      0.999000   \n",
       "\n",
       "            valence         tempo   duration_ms  time_signature    chorus_hit  \\\n",
       "count  41106.000000  41106.000000  4.110600e+04    41106.000000  41106.000000   \n",
       "mean       0.542440    119.338249  2.348776e+05        3.893689     40.106041   \n",
       "std        0.267329     29.098845  1.189674e+05        0.423073     19.005515   \n",
       "min        0.000000      0.000000  1.516800e+04        0.000000      0.000000   \n",
       "25%        0.330000     97.397000  1.729278e+05        4.000000     27.599792   \n",
       "50%        0.558000    117.565000  2.179070e+05        4.000000     35.850795   \n",
       "75%        0.768000    136.494000  2.667730e+05        4.000000     47.625615   \n",
       "max        0.996000    241.423000  4.170227e+06        5.000000    433.182000   \n",
       "\n",
       "           sections        target  \n",
       "count  41106.000000  41106.000000  \n",
       "mean      10.475673      0.500000  \n",
       "std        4.871850      0.500006  \n",
       "min        0.000000      0.000000  \n",
       "25%        8.000000      0.000000  \n",
       "50%       10.000000      0.500000  \n",
       "75%       12.000000      1.000000  \n",
       "max      169.000000      1.000000  "
      ],
      "text/html": [
       "<div>\n",
       "<style scoped>\n",
       "    .dataframe tbody tr th:only-of-type {\n",
       "        vertical-align: middle;\n",
       "    }\n",
       "\n",
       "    .dataframe tbody tr th {\n",
       "        vertical-align: top;\n",
       "    }\n",
       "\n",
       "    .dataframe thead th {\n",
       "        text-align: right;\n",
       "    }\n",
       "</style>\n",
       "<table border=\"1\" class=\"dataframe\">\n",
       "  <thead>\n",
       "    <tr style=\"text-align: right;\">\n",
       "      <th></th>\n",
       "      <th>danceability</th>\n",
       "      <th>energy</th>\n",
       "      <th>key</th>\n",
       "      <th>loudness</th>\n",
       "      <th>mode</th>\n",
       "      <th>speechiness</th>\n",
       "      <th>acousticness</th>\n",
       "      <th>instrumentalness</th>\n",
       "      <th>liveness</th>\n",
       "      <th>valence</th>\n",
       "      <th>tempo</th>\n",
       "      <th>duration_ms</th>\n",
       "      <th>time_signature</th>\n",
       "      <th>chorus_hit</th>\n",
       "      <th>sections</th>\n",
       "      <th>target</th>\n",
       "    </tr>\n",
       "  </thead>\n",
       "  <tbody>\n",
       "    <tr>\n",
       "      <th>count</th>\n",
       "      <td>41106.000000</td>\n",
       "      <td>41106.000000</td>\n",
       "      <td>41106.000000</td>\n",
       "      <td>41106.000000</td>\n",
       "      <td>41106.000000</td>\n",
       "      <td>41106.000000</td>\n",
       "      <td>41106.000000</td>\n",
       "      <td>41106.000000</td>\n",
       "      <td>41106.000000</td>\n",
       "      <td>41106.000000</td>\n",
       "      <td>41106.000000</td>\n",
       "      <td>4.110600e+04</td>\n",
       "      <td>41106.000000</td>\n",
       "      <td>41106.000000</td>\n",
       "      <td>41106.000000</td>\n",
       "      <td>41106.000000</td>\n",
       "    </tr>\n",
       "    <tr>\n",
       "      <th>mean</th>\n",
       "      <td>0.539695</td>\n",
       "      <td>0.579545</td>\n",
       "      <td>5.213594</td>\n",
       "      <td>-10.221525</td>\n",
       "      <td>0.693354</td>\n",
       "      <td>0.072960</td>\n",
       "      <td>0.364197</td>\n",
       "      <td>0.154416</td>\n",
       "      <td>0.201535</td>\n",
       "      <td>0.542440</td>\n",
       "      <td>119.338249</td>\n",
       "      <td>2.348776e+05</td>\n",
       "      <td>3.893689</td>\n",
       "      <td>40.106041</td>\n",
       "      <td>10.475673</td>\n",
       "      <td>0.500000</td>\n",
       "    </tr>\n",
       "    <tr>\n",
       "      <th>std</th>\n",
       "      <td>0.177821</td>\n",
       "      <td>0.252628</td>\n",
       "      <td>3.534977</td>\n",
       "      <td>5.311626</td>\n",
       "      <td>0.461107</td>\n",
       "      <td>0.086112</td>\n",
       "      <td>0.338913</td>\n",
       "      <td>0.303530</td>\n",
       "      <td>0.172959</td>\n",
       "      <td>0.267329</td>\n",
       "      <td>29.098845</td>\n",
       "      <td>1.189674e+05</td>\n",
       "      <td>0.423073</td>\n",
       "      <td>19.005515</td>\n",
       "      <td>4.871850</td>\n",
       "      <td>0.500006</td>\n",
       "    </tr>\n",
       "    <tr>\n",
       "      <th>min</th>\n",
       "      <td>0.000000</td>\n",
       "      <td>0.000251</td>\n",
       "      <td>0.000000</td>\n",
       "      <td>-49.253000</td>\n",
       "      <td>0.000000</td>\n",
       "      <td>0.000000</td>\n",
       "      <td>0.000000</td>\n",
       "      <td>0.000000</td>\n",
       "      <td>0.013000</td>\n",
       "      <td>0.000000</td>\n",
       "      <td>0.000000</td>\n",
       "      <td>1.516800e+04</td>\n",
       "      <td>0.000000</td>\n",
       "      <td>0.000000</td>\n",
       "      <td>0.000000</td>\n",
       "      <td>0.000000</td>\n",
       "    </tr>\n",
       "    <tr>\n",
       "      <th>25%</th>\n",
       "      <td>0.420000</td>\n",
       "      <td>0.396000</td>\n",
       "      <td>2.000000</td>\n",
       "      <td>-12.816000</td>\n",
       "      <td>0.000000</td>\n",
       "      <td>0.033700</td>\n",
       "      <td>0.039400</td>\n",
       "      <td>0.000000</td>\n",
       "      <td>0.094000</td>\n",
       "      <td>0.330000</td>\n",
       "      <td>97.397000</td>\n",
       "      <td>1.729278e+05</td>\n",
       "      <td>4.000000</td>\n",
       "      <td>27.599792</td>\n",
       "      <td>8.000000</td>\n",
       "      <td>0.000000</td>\n",
       "    </tr>\n",
       "    <tr>\n",
       "      <th>50%</th>\n",
       "      <td>0.552000</td>\n",
       "      <td>0.601000</td>\n",
       "      <td>5.000000</td>\n",
       "      <td>-9.257000</td>\n",
       "      <td>1.000000</td>\n",
       "      <td>0.043400</td>\n",
       "      <td>0.258000</td>\n",
       "      <td>0.000120</td>\n",
       "      <td>0.132000</td>\n",
       "      <td>0.558000</td>\n",
       "      <td>117.565000</td>\n",
       "      <td>2.179070e+05</td>\n",
       "      <td>4.000000</td>\n",
       "      <td>35.850795</td>\n",
       "      <td>10.000000</td>\n",
       "      <td>0.500000</td>\n",
       "    </tr>\n",
       "    <tr>\n",
       "      <th>75%</th>\n",
       "      <td>0.669000</td>\n",
       "      <td>0.787000</td>\n",
       "      <td>8.000000</td>\n",
       "      <td>-6.374250</td>\n",
       "      <td>1.000000</td>\n",
       "      <td>0.069800</td>\n",
       "      <td>0.676000</td>\n",
       "      <td>0.061250</td>\n",
       "      <td>0.261000</td>\n",
       "      <td>0.768000</td>\n",
       "      <td>136.494000</td>\n",
       "      <td>2.667730e+05</td>\n",
       "      <td>4.000000</td>\n",
       "      <td>47.625615</td>\n",
       "      <td>12.000000</td>\n",
       "      <td>1.000000</td>\n",
       "    </tr>\n",
       "    <tr>\n",
       "      <th>max</th>\n",
       "      <td>0.988000</td>\n",
       "      <td>1.000000</td>\n",
       "      <td>11.000000</td>\n",
       "      <td>3.744000</td>\n",
       "      <td>1.000000</td>\n",
       "      <td>0.960000</td>\n",
       "      <td>0.996000</td>\n",
       "      <td>1.000000</td>\n",
       "      <td>0.999000</td>\n",
       "      <td>0.996000</td>\n",
       "      <td>241.423000</td>\n",
       "      <td>4.170227e+06</td>\n",
       "      <td>5.000000</td>\n",
       "      <td>433.182000</td>\n",
       "      <td>169.000000</td>\n",
       "      <td>1.000000</td>\n",
       "    </tr>\n",
       "  </tbody>\n",
       "</table>\n",
       "</div>"
      ]
     },
     "execution_count": 7,
     "metadata": {},
     "output_type": "execute_result"
    }
   ],
   "execution_count": 7
  },
  {
   "cell_type": "code",
   "source": [
    "df['time_signature'].describe()"
   ],
   "metadata": {
    "id": "GfBBQ-hb2-4N",
    "colab": {
     "base_uri": "https://localhost:8080/"
    },
    "outputId": "81ed690a-8ee3-4e59-d0e4-f9ca0962017a",
    "ExecuteTime": {
     "end_time": "2025-06-02T10:21:19.298784Z",
     "start_time": "2025-06-02T10:21:19.289433Z"
    }
   },
   "outputs": [
    {
     "data": {
      "text/plain": [
       "count    41106.000000\n",
       "mean         3.893689\n",
       "std          0.423073\n",
       "min          0.000000\n",
       "25%          4.000000\n",
       "50%          4.000000\n",
       "75%          4.000000\n",
       "max          5.000000\n",
       "Name: time_signature, dtype: float64"
      ]
     },
     "execution_count": 8,
     "metadata": {},
     "output_type": "execute_result"
    }
   ],
   "execution_count": 8
  },
  {
   "cell_type": "markdown",
   "source": "column time signature will be droped as most values are 4.",
   "metadata": {
    "id": "jnpHfslhomj6"
   }
  },
  {
   "cell_type": "code",
   "source": [
    "#Scaling the data\n",
    "scale = StandardScaler()\n",
    "\n",
    "df_X = df.drop(axis=1, labels=['time_signature','uri','target', 'track', 'artist'])\n",
    "\n",
    "\n",
    "df_scaled = scale.fit_transform(df_X)\n",
    "df_scaled = pd.DataFrame(df_scaled)\n",
    "df_scaled.columns = df_X.columns\n",
    "df_scaled"
   ],
   "metadata": {
    "id": "SNG6fqGyA7im",
    "colab": {
     "base_uri": "https://localhost:8080/",
     "height": 487
    },
    "outputId": "b1d33bf5-7949-4a2f-8354-4bae3c2840eb",
    "ExecuteTime": {
     "end_time": "2025-06-02T10:21:19.566542Z",
     "start_time": "2025-06-02T10:21:19.441414Z"
    }
   },
   "outputs": [
    {
     "data": {
      "text/plain": [
       "       danceability    energy       key  loudness      mode  speechiness  \\\n",
       "0          0.215416 -0.429668 -0.343315  0.555679  0.665030    -0.511673   \n",
       "1          0.924004  1.086412  1.354030  0.893245 -1.503691     1.277886   \n",
       "2         -2.124046  1.015160  1.071139  1.357892  0.665030    -0.297994   \n",
       "3         -1.977830  1.640592 -0.343315  1.219326  0.665030     1.080465   \n",
       "4          0.507849  0.730153 -0.909096  1.104859  0.665030    -0.527931   \n",
       "...             ...       ...       ...       ...       ...          ...   \n",
       "41101     -0.808099  0.852864  1.071139  0.781602 -1.503691     1.870147   \n",
       "41102      0.457236  0.298684  1.071139  0.741877 -1.503691    -0.488447   \n",
       "41103      0.125437 -1.051141  1.354030 -0.939738 -1.503691    -0.501221   \n",
       "41104      0.462860  0.797446  0.505358  0.779719  0.665030    -0.419930   \n",
       "41105      0.699055  0.631192 -0.909096  0.229033  0.665030    -0.543028   \n",
       "\n",
       "       acousticness  instrumentalness  liveness   valence     tempo  \\\n",
       "0          0.011220         -0.508740 -0.245926 -0.039055  0.471597   \n",
       "1         -1.020031         -0.508740 -0.309525  0.544503 -0.905554   \n",
       "2         -1.074290         -0.493684 -0.159199 -0.906910 -1.112575   \n",
       "3         -1.074596         -0.250443 -0.055127 -0.783465  1.000112   \n",
       "4         -0.003533         -0.508740 -0.442506  0.331280 -0.248819   \n",
       "...             ...               ...       ...       ...       ...   \n",
       "41101     -1.071880         -0.508052 -0.112945  0.821319  1.154862   \n",
       "41102     -0.925315         -0.488116 -0.623476  0.551984  0.509605   \n",
       "41103      0.223667         -0.508704 -0.552360  0.106835  1.632688   \n",
       "41104     -1.074320          1.978688  1.049193 -1.228615  0.024494   \n",
       "41105     -0.761849         -0.330173  0.760104 -0.315871 -0.930675   \n",
       "\n",
       "       duration_ms  chorus_hit  sections  decade_of_release  \n",
       "0        -0.320853   -0.485415  0.518152          -1.625366  \n",
       "1         0.064804    0.073928 -0.097638          -1.625366  \n",
       "2         0.874330    1.327148  0.518152          -1.625366  \n",
       "3         0.174751    0.972847 -0.302901          -1.625366  \n",
       "4        -0.345625   -0.919860 -0.097638          -1.625366  \n",
       "...            ...         ...       ...                ...  \n",
       "41101    -1.284154   -0.513802 -0.918691           1.138569  \n",
       "41102    -0.195220   -0.274186 -0.097638           1.138569  \n",
       "41103    -0.378684   -0.999112 -0.097638           1.138569  \n",
       "41104     0.800023    0.369873  0.107625           1.138569  \n",
       "41105     0.496743    0.126142  0.723415           1.138569  \n",
       "\n",
       "[41106 rows x 15 columns]"
      ],
      "text/html": [
       "<div>\n",
       "<style scoped>\n",
       "    .dataframe tbody tr th:only-of-type {\n",
       "        vertical-align: middle;\n",
       "    }\n",
       "\n",
       "    .dataframe tbody tr th {\n",
       "        vertical-align: top;\n",
       "    }\n",
       "\n",
       "    .dataframe thead th {\n",
       "        text-align: right;\n",
       "    }\n",
       "</style>\n",
       "<table border=\"1\" class=\"dataframe\">\n",
       "  <thead>\n",
       "    <tr style=\"text-align: right;\">\n",
       "      <th></th>\n",
       "      <th>danceability</th>\n",
       "      <th>energy</th>\n",
       "      <th>key</th>\n",
       "      <th>loudness</th>\n",
       "      <th>mode</th>\n",
       "      <th>speechiness</th>\n",
       "      <th>acousticness</th>\n",
       "      <th>instrumentalness</th>\n",
       "      <th>liveness</th>\n",
       "      <th>valence</th>\n",
       "      <th>tempo</th>\n",
       "      <th>duration_ms</th>\n",
       "      <th>chorus_hit</th>\n",
       "      <th>sections</th>\n",
       "      <th>decade_of_release</th>\n",
       "    </tr>\n",
       "  </thead>\n",
       "  <tbody>\n",
       "    <tr>\n",
       "      <th>0</th>\n",
       "      <td>0.215416</td>\n",
       "      <td>-0.429668</td>\n",
       "      <td>-0.343315</td>\n",
       "      <td>0.555679</td>\n",
       "      <td>0.665030</td>\n",
       "      <td>-0.511673</td>\n",
       "      <td>0.011220</td>\n",
       "      <td>-0.508740</td>\n",
       "      <td>-0.245926</td>\n",
       "      <td>-0.039055</td>\n",
       "      <td>0.471597</td>\n",
       "      <td>-0.320853</td>\n",
       "      <td>-0.485415</td>\n",
       "      <td>0.518152</td>\n",
       "      <td>-1.625366</td>\n",
       "    </tr>\n",
       "    <tr>\n",
       "      <th>1</th>\n",
       "      <td>0.924004</td>\n",
       "      <td>1.086412</td>\n",
       "      <td>1.354030</td>\n",
       "      <td>0.893245</td>\n",
       "      <td>-1.503691</td>\n",
       "      <td>1.277886</td>\n",
       "      <td>-1.020031</td>\n",
       "      <td>-0.508740</td>\n",
       "      <td>-0.309525</td>\n",
       "      <td>0.544503</td>\n",
       "      <td>-0.905554</td>\n",
       "      <td>0.064804</td>\n",
       "      <td>0.073928</td>\n",
       "      <td>-0.097638</td>\n",
       "      <td>-1.625366</td>\n",
       "    </tr>\n",
       "    <tr>\n",
       "      <th>2</th>\n",
       "      <td>-2.124046</td>\n",
       "      <td>1.015160</td>\n",
       "      <td>1.071139</td>\n",
       "      <td>1.357892</td>\n",
       "      <td>0.665030</td>\n",
       "      <td>-0.297994</td>\n",
       "      <td>-1.074290</td>\n",
       "      <td>-0.493684</td>\n",
       "      <td>-0.159199</td>\n",
       "      <td>-0.906910</td>\n",
       "      <td>-1.112575</td>\n",
       "      <td>0.874330</td>\n",
       "      <td>1.327148</td>\n",
       "      <td>0.518152</td>\n",
       "      <td>-1.625366</td>\n",
       "    </tr>\n",
       "    <tr>\n",
       "      <th>3</th>\n",
       "      <td>-1.977830</td>\n",
       "      <td>1.640592</td>\n",
       "      <td>-0.343315</td>\n",
       "      <td>1.219326</td>\n",
       "      <td>0.665030</td>\n",
       "      <td>1.080465</td>\n",
       "      <td>-1.074596</td>\n",
       "      <td>-0.250443</td>\n",
       "      <td>-0.055127</td>\n",
       "      <td>-0.783465</td>\n",
       "      <td>1.000112</td>\n",
       "      <td>0.174751</td>\n",
       "      <td>0.972847</td>\n",
       "      <td>-0.302901</td>\n",
       "      <td>-1.625366</td>\n",
       "    </tr>\n",
       "    <tr>\n",
       "      <th>4</th>\n",
       "      <td>0.507849</td>\n",
       "      <td>0.730153</td>\n",
       "      <td>-0.909096</td>\n",
       "      <td>1.104859</td>\n",
       "      <td>0.665030</td>\n",
       "      <td>-0.527931</td>\n",
       "      <td>-0.003533</td>\n",
       "      <td>-0.508740</td>\n",
       "      <td>-0.442506</td>\n",
       "      <td>0.331280</td>\n",
       "      <td>-0.248819</td>\n",
       "      <td>-0.345625</td>\n",
       "      <td>-0.919860</td>\n",
       "      <td>-0.097638</td>\n",
       "      <td>-1.625366</td>\n",
       "    </tr>\n",
       "    <tr>\n",
       "      <th>...</th>\n",
       "      <td>...</td>\n",
       "      <td>...</td>\n",
       "      <td>...</td>\n",
       "      <td>...</td>\n",
       "      <td>...</td>\n",
       "      <td>...</td>\n",
       "      <td>...</td>\n",
       "      <td>...</td>\n",
       "      <td>...</td>\n",
       "      <td>...</td>\n",
       "      <td>...</td>\n",
       "      <td>...</td>\n",
       "      <td>...</td>\n",
       "      <td>...</td>\n",
       "      <td>...</td>\n",
       "    </tr>\n",
       "    <tr>\n",
       "      <th>41101</th>\n",
       "      <td>-0.808099</td>\n",
       "      <td>0.852864</td>\n",
       "      <td>1.071139</td>\n",
       "      <td>0.781602</td>\n",
       "      <td>-1.503691</td>\n",
       "      <td>1.870147</td>\n",
       "      <td>-1.071880</td>\n",
       "      <td>-0.508052</td>\n",
       "      <td>-0.112945</td>\n",
       "      <td>0.821319</td>\n",
       "      <td>1.154862</td>\n",
       "      <td>-1.284154</td>\n",
       "      <td>-0.513802</td>\n",
       "      <td>-0.918691</td>\n",
       "      <td>1.138569</td>\n",
       "    </tr>\n",
       "    <tr>\n",
       "      <th>41102</th>\n",
       "      <td>0.457236</td>\n",
       "      <td>0.298684</td>\n",
       "      <td>1.071139</td>\n",
       "      <td>0.741877</td>\n",
       "      <td>-1.503691</td>\n",
       "      <td>-0.488447</td>\n",
       "      <td>-0.925315</td>\n",
       "      <td>-0.488116</td>\n",
       "      <td>-0.623476</td>\n",
       "      <td>0.551984</td>\n",
       "      <td>0.509605</td>\n",
       "      <td>-0.195220</td>\n",
       "      <td>-0.274186</td>\n",
       "      <td>-0.097638</td>\n",
       "      <td>1.138569</td>\n",
       "    </tr>\n",
       "    <tr>\n",
       "      <th>41103</th>\n",
       "      <td>0.125437</td>\n",
       "      <td>-1.051141</td>\n",
       "      <td>1.354030</td>\n",
       "      <td>-0.939738</td>\n",
       "      <td>-1.503691</td>\n",
       "      <td>-0.501221</td>\n",
       "      <td>0.223667</td>\n",
       "      <td>-0.508704</td>\n",
       "      <td>-0.552360</td>\n",
       "      <td>0.106835</td>\n",
       "      <td>1.632688</td>\n",
       "      <td>-0.378684</td>\n",
       "      <td>-0.999112</td>\n",
       "      <td>-0.097638</td>\n",
       "      <td>1.138569</td>\n",
       "    </tr>\n",
       "    <tr>\n",
       "      <th>41104</th>\n",
       "      <td>0.462860</td>\n",
       "      <td>0.797446</td>\n",
       "      <td>0.505358</td>\n",
       "      <td>0.779719</td>\n",
       "      <td>0.665030</td>\n",
       "      <td>-0.419930</td>\n",
       "      <td>-1.074320</td>\n",
       "      <td>1.978688</td>\n",
       "      <td>1.049193</td>\n",
       "      <td>-1.228615</td>\n",
       "      <td>0.024494</td>\n",
       "      <td>0.800023</td>\n",
       "      <td>0.369873</td>\n",
       "      <td>0.107625</td>\n",
       "      <td>1.138569</td>\n",
       "    </tr>\n",
       "    <tr>\n",
       "      <th>41105</th>\n",
       "      <td>0.699055</td>\n",
       "      <td>0.631192</td>\n",
       "      <td>-0.909096</td>\n",
       "      <td>0.229033</td>\n",
       "      <td>0.665030</td>\n",
       "      <td>-0.543028</td>\n",
       "      <td>-0.761849</td>\n",
       "      <td>-0.330173</td>\n",
       "      <td>0.760104</td>\n",
       "      <td>-0.315871</td>\n",
       "      <td>-0.930675</td>\n",
       "      <td>0.496743</td>\n",
       "      <td>0.126142</td>\n",
       "      <td>0.723415</td>\n",
       "      <td>1.138569</td>\n",
       "    </tr>\n",
       "  </tbody>\n",
       "</table>\n",
       "<p>41106 rows × 15 columns</p>\n",
       "</div>"
      ]
     },
     "execution_count": 9,
     "metadata": {},
     "output_type": "execute_result"
    }
   ],
   "execution_count": 9
  },
  {
   "cell_type": "markdown",
   "source": [
    "Managing outliers and creating boxplots to analyze the distribution of data and remove outliers"
   ],
   "metadata": {
    "id": "aP4CBNx8ow6o"
   }
  },
  {
   "cell_type": "code",
   "source": [
    "#box plot with outliers\n",
    "df_melt=pd.melt(df_scaled)\n",
    "sns.set_theme(rc={'figure.figsize':(23,10)})\n",
    "sns.boxplot(x='variable', y='value', data=df_melt)\n",
    "plt.title('Distribution of predictors with outliers')"
   ],
   "metadata": {
    "id": "h5uX2ZGOCZnl",
    "colab": {
     "base_uri": "https://localhost:8080/",
     "height": 619
    },
    "outputId": "de53b4ad-49aa-4170-d99b-93497631e2c5",
    "ExecuteTime": {
     "end_time": "2025-06-02T10:21:21.029433Z",
     "start_time": "2025-06-02T10:21:19.986577Z"
    }
   },
   "outputs": [
    {
     "data": {
      "text/plain": [
       "Text(0.5, 1.0, 'Distribution of predictors with outliers')"
      ]
     },
     "execution_count": 10,
     "metadata": {},
     "output_type": "execute_result"
    },
    {
     "data": {
      "text/plain": [
       "<Figure size 2300x1000 with 1 Axes>"
      ],
      "image/png": "[encoded data removed]"
     },
     "metadata": {},
     "output_type": "display_data"
    }
   ],
   "execution_count": 10
  },
  {
   "cell_type": "code",
   "source": [
    "#boxplot without outliers\n",
    "df_melt=pd.melt(df_scaled)\n",
    "sns.set_theme(rc={'figure.figsize':(23,10)})\n",
    "sns.boxplot(x='variable', y='value', data=df_melt, showfliers=False)\n",
    "plt.title('Distribution of predictors without outliers')"
   ],
   "metadata": {
    "id": "vpx3kRvA9KaK",
    "colab": {
     "base_uri": "https://localhost:8080/",
     "height": 619
    },
    "outputId": "e9e1cdb8-4933-46ba-9a0b-4cc974d00830",
    "ExecuteTime": {
     "end_time": "2025-06-02T10:21:21.920092Z",
     "start_time": "2025-06-02T10:21:21.092090Z"
    }
   },
   "outputs": [
    {
     "data": {
      "text/plain": [
       "Text(0.5, 1.0, 'Distribution of predictors without outliers')"
      ]
     },
     "execution_count": 11,
     "metadata": {},
     "output_type": "execute_result"
    },
    {
     "data": {
      "text/plain": [
       "<Figure size 2300x1000 with 1 Axes>"
      ],
      "image/png": "[encoded data removed]"
     },
     "metadata": {},
     "output_type": "display_data"
    }
   ],
   "execution_count": 11
  },
  {
   "cell_type": "markdown",
   "source": [
    "Removing the outliers"
   ],
   "metadata": {
    "id": "zWtO3cF2pAlo"
   }
  },
  {
   "cell_type": "code",
   "source": [
    "df_clean = df_scaled\n",
    "for col in df_clean.columns:\n",
    "  q1=df_clean[col].quantile(0.25)\n",
    "  q3=df_clean[col].quantile(0.75)\n",
    "  inq=q3-q1\n",
    "  filter=(df_clean[col] >= q1-1.5*inq) & (df_clean[col] <= q3+1.5*inq)\n",
    "  df_clean[col] = df_clean[col].loc[filter]"
   ],
   "metadata": {
    "id": "LkDpLXF9EbGo",
    "ExecuteTime": {
     "end_time": "2025-06-02T10:21:22.017968Z",
     "start_time": "2025-06-02T10:21:21.980456Z"
    }
   },
   "outputs": [],
   "execution_count": 12
  },
  {
   "cell_type": "code",
   "source": [
    "#number of outliers for each predictor\n",
    "df_clean.isna().sum()"
   ],
   "metadata": {
    "id": "kXmPXdEuFcB0",
    "colab": {
     "base_uri": "https://localhost:8080/"
    },
    "outputId": "39e4bd54-b39a-488f-d8eb-4a8e979bb6bb",
    "ExecuteTime": {
     "end_time": "2025-06-02T10:21:22.059559Z",
     "start_time": "2025-06-02T10:21:22.052855Z"
    }
   },
   "outputs": [
    {
     "data": {
      "text/plain": [
       "danceability            1\n",
       "energy                  0\n",
       "key                     0\n",
       "loudness             1343\n",
       "mode                    0\n",
       "speechiness          5088\n",
       "acousticness            0\n",
       "instrumentalness     8920\n",
       "liveness             2688\n",
       "valence                 0\n",
       "tempo                 434\n",
       "duration_ms          1987\n",
       "chorus_hit           1839\n",
       "sections             1570\n",
       "decade_of_release       0\n",
       "dtype: int64"
      ]
     },
     "execution_count": 13,
     "metadata": {},
     "output_type": "execute_result"
    }
   ],
   "execution_count": 13
  },
  {
   "cell_type": "markdown",
   "source": [
    "Removing 2 predictors with a lot of outliers"
   ],
   "metadata": {
    "id": "99hUzWj0p3bV"
   }
  },
  {
   "cell_type": "code",
   "source": [
    "#removing 2 predictors\n",
    "df_clean = df_clean.drop(axis=1, labels=['speechiness', 'instrumentalness'])"
   ],
   "metadata": {
    "id": "Hs8yzQQhXqfh",
    "ExecuteTime": {
     "end_time": "2025-06-02T10:21:22.134514Z",
     "start_time": "2025-06-02T10:21:22.128630Z"
    }
   },
   "outputs": [],
   "execution_count": 14
  },
  {
   "cell_type": "code",
   "source": [
    "df_remove = df_clean.dropna()\n",
    "df_remove.shape"
   ],
   "metadata": {
    "id": "X502wN9WXavd",
    "colab": {
     "base_uri": "https://localhost:8080/"
    },
    "outputId": "9c40883b-668b-41d1-d023-d92deabe97fc",
    "ExecuteTime": {
     "end_time": "2025-06-02T10:21:22.203009Z",
     "start_time": "2025-06-02T10:21:22.195936Z"
    }
   },
   "outputs": [
    {
     "data": {
      "text/plain": [
       "(33401, 13)"
      ]
     },
     "execution_count": 15,
     "metadata": {},
     "output_type": "execute_result"
    }
   ],
   "execution_count": 15
  },
  {
   "cell_type": "markdown",
   "source": [
    "Total of 33401 songs remain after cleaning"
   ],
   "metadata": {
    "id": "uvuamqflqCr3"
   }
  },
  {
   "cell_type": "code",
   "source": [
    "#box plot after removing the outliers\n",
    "df_melt=pd.melt(df_remove)\n",
    "sns.set_theme(rc={'figure.figsize':(23,10)})\n",
    "sns.boxplot(x='variable', y='value', data=df_melt, showfliers=False)\n",
    "plt.title('Distribution of predictors without outliers')"
   ],
   "metadata": {
    "id": "Egxqteb9NJ6E",
    "colab": {
     "base_uri": "https://localhost:8080/",
     "height": 619
    },
    "outputId": "4e671265-2f6d-445a-ad4c-76371d49990a",
    "ExecuteTime": {
     "end_time": "2025-06-02T10:21:22.966888Z",
     "start_time": "2025-06-02T10:21:22.273075Z"
    }
   },
   "outputs": [
    {
     "data": {
      "text/plain": [
       "Text(0.5, 1.0, 'Distribution of predictors without outliers')"
      ]
     },
     "execution_count": 16,
     "metadata": {},
     "output_type": "execute_result"
    },
    {
     "data": {
      "text/plain": [
       "<Figure size 2300x1000 with 1 Axes>"
      ],
      "image/png": "[encoded data removed]"
     },
     "metadata": {},
     "output_type": "display_data"
    }
   ],
   "execution_count": 16
  },
  {
   "cell_type": "markdown",
   "source": [
    "Creating the unscaled dataframe without the outliers"
   ],
   "metadata": {
    "id": "jgBRof7oqTEU"
   }
  },
  {
   "cell_type": "code",
   "source": [
    "df_merge = df.iloc[df_remove.index]"
   ],
   "metadata": {
    "id": "mQlQUNBLbLAN",
    "ExecuteTime": {
     "end_time": "2025-06-02T10:21:23.019812Z",
     "start_time": "2025-06-02T10:21:23.012107Z"
    }
   },
   "outputs": [],
   "execution_count": 17
  },
  {
   "cell_type": "code",
   "source": [
    "df_merge = df_merge.drop(axis=1, labels=['speechiness', 'instrumentalness'])"
   ],
   "metadata": {
    "id": "xrHrtRZMelCN",
    "ExecuteTime": {
     "end_time": "2025-06-02T10:21:23.125975Z",
     "start_time": "2025-06-02T10:21:23.117973Z"
    }
   },
   "outputs": [],
   "execution_count": 18
  },
  {
   "cell_type": "code",
   "source": [
    "df_merge.columns"
   ],
   "metadata": {
    "id": "ajdCE17ofJkY",
    "colab": {
     "base_uri": "https://localhost:8080/"
    },
    "outputId": "ed146ed7-d602-46dd-bdab-a35bb24f50b2",
    "ExecuteTime": {
     "end_time": "2025-06-02T10:21:23.172337Z",
     "start_time": "2025-06-02T10:21:23.167175Z"
    }
   },
   "outputs": [
    {
     "data": {
      "text/plain": [
       "Index(['uri', 'track', 'artist', 'danceability', 'energy', 'key', 'loudness',\n",
       "       'mode', 'acousticness', 'liveness', 'valence', 'tempo', 'duration_ms',\n",
       "       'time_signature', 'chorus_hit', 'sections', 'decade_of_release',\n",
       "       'target'],\n",
       "      dtype='object')"
      ]
     },
     "execution_count": 19,
     "metadata": {},
     "output_type": "execute_result"
    }
   ],
   "execution_count": 19
  },
  {
   "cell_type": "markdown",
   "source": [
    "Counting the number of observations in each class"
   ],
   "metadata": {
    "id": "8ki0FRQgrUCT"
   }
  },
  {
   "cell_type": "code",
   "source": [
    "#observations in each class\n",
    "df_merge.groupby('target')[['danceability', 'energy', 'key', 'loudness',\n",
    "       'mode', 'acousticness', 'liveness', 'valence', 'tempo', 'duration_ms',\n",
    "       'chorus_hit', 'sections']].count()"
   ],
   "metadata": {
    "id": "arLiQVupZ_e5",
    "colab": {
     "base_uri": "https://localhost:8080/",
     "height": 143
    },
    "outputId": "a469aa91-c98a-41cb-970c-30e594b9e222",
    "ExecuteTime": {
     "end_time": "2025-06-02T10:21:23.224022Z",
     "start_time": "2025-06-02T10:21:23.215115Z"
    }
   },
   "outputs": [
    {
     "data": {
      "text/plain": [
       "        danceability  energy    key  loudness   mode  acousticness  liveness  \\\n",
       "target                                                                         \n",
       "0              15247   15247  15247     15247  15247         15247     15247   \n",
       "1              18154   18154  18154     18154  18154         18154     18154   \n",
       "\n",
       "        valence  tempo  duration_ms  chorus_hit  sections  \n",
       "target                                                     \n",
       "0         15247  15247        15247       15247     15247  \n",
       "1         18154  18154        18154       18154     18154  "
      ],
      "text/html": [
       "<div>\n",
       "<style scoped>\n",
       "    .dataframe tbody tr th:only-of-type {\n",
       "        vertical-align: middle;\n",
       "    }\n",
       "\n",
       "    .dataframe tbody tr th {\n",
       "        vertical-align: top;\n",
       "    }\n",
       "\n",
       "    .dataframe thead th {\n",
       "        text-align: right;\n",
       "    }\n",
       "</style>\n",
       "<table border=\"1\" class=\"dataframe\">\n",
       "  <thead>\n",
       "    <tr style=\"text-align: right;\">\n",
       "      <th></th>\n",
       "      <th>danceability</th>\n",
       "      <th>energy</th>\n",
       "      <th>key</th>\n",
       "      <th>loudness</th>\n",
       "      <th>mode</th>\n",
       "      <th>acousticness</th>\n",
       "      <th>liveness</th>\n",
       "      <th>valence</th>\n",
       "      <th>tempo</th>\n",
       "      <th>duration_ms</th>\n",
       "      <th>chorus_hit</th>\n",
       "      <th>sections</th>\n",
       "    </tr>\n",
       "    <tr>\n",
       "      <th>target</th>\n",
       "      <th></th>\n",
       "      <th></th>\n",
       "      <th></th>\n",
       "      <th></th>\n",
       "      <th></th>\n",
       "      <th></th>\n",
       "      <th></th>\n",
       "      <th></th>\n",
       "      <th></th>\n",
       "      <th></th>\n",
       "      <th></th>\n",
       "      <th></th>\n",
       "    </tr>\n",
       "  </thead>\n",
       "  <tbody>\n",
       "    <tr>\n",
       "      <th>0</th>\n",
       "      <td>15247</td>\n",
       "      <td>15247</td>\n",
       "      <td>15247</td>\n",
       "      <td>15247</td>\n",
       "      <td>15247</td>\n",
       "      <td>15247</td>\n",
       "      <td>15247</td>\n",
       "      <td>15247</td>\n",
       "      <td>15247</td>\n",
       "      <td>15247</td>\n",
       "      <td>15247</td>\n",
       "      <td>15247</td>\n",
       "    </tr>\n",
       "    <tr>\n",
       "      <th>1</th>\n",
       "      <td>18154</td>\n",
       "      <td>18154</td>\n",
       "      <td>18154</td>\n",
       "      <td>18154</td>\n",
       "      <td>18154</td>\n",
       "      <td>18154</td>\n",
       "      <td>18154</td>\n",
       "      <td>18154</td>\n",
       "      <td>18154</td>\n",
       "      <td>18154</td>\n",
       "      <td>18154</td>\n",
       "      <td>18154</td>\n",
       "    </tr>\n",
       "  </tbody>\n",
       "</table>\n",
       "</div>"
      ]
     },
     "execution_count": 20,
     "metadata": {},
     "output_type": "execute_result"
    }
   ],
   "execution_count": 20
  },
  {
   "cell_type": "code",
   "source": [
    "#plotting the number of observations\n",
    "sns.countplot(x='target', data=df_merge)\n",
    "sns.set_theme(rc={'figure.figsize':(12,8)})"
   ],
   "metadata": {
    "id": "dTwruG1JmHYT",
    "colab": {
     "base_uri": "https://localhost:8080/",
     "height": 593
    },
    "outputId": "7fd6c45b-bd38-4f67-ae26-c871074cc8af",
    "ExecuteTime": {
     "end_time": "2025-06-02T10:21:23.400132Z",
     "start_time": "2025-06-02T10:21:23.251571Z"
    }
   },
   "outputs": [
    {
     "data": {
      "text/plain": [
       "<Figure size 2300x1000 with 1 Axes>"
      ],
      "image/png": "[encoded data removed]"
     },
     "metadata": {},
     "output_type": "display_data"
    }
   ],
   "execution_count": 21
  },
  {
   "cell_type": "code",
   "source": [
    "#plotting box plots based on target variable for different predictors\n",
    "plt.rcParams[\"figure.figsize\"] = [12, 15]\n",
    "fig, axes = plt.subplots(nrows=3, ncols=4, )\n",
    "df_merge.boxplot(column= 'danceability', by='target', ax=axes[0][0], showfliers=False)\n",
    "df_merge.boxplot(column= 'energy', by='target', ax=axes[0][1], showfliers=False)\n",
    "df_merge.boxplot(column='key', by='target', ax=axes[0][2], showfliers=False)\n",
    "df_merge.boxplot(column='loudness', by='target', ax=axes[0][3], showfliers=False)\n",
    "df_merge.boxplot(column='mode', by='target', ax=axes[1][0], showfliers=False)\n",
    "df_merge.boxplot(column='acousticness', by='target', ax=axes[1][1], showfliers=False)\n",
    "df_merge.boxplot(column='liveness', by='target', ax=axes[1][2], showfliers=False)\n",
    "df_merge.boxplot(column='valence', by='target', ax=axes[1][3], showfliers=False)\n",
    "df_merge.boxplot(column='tempo', by='target', ax=axes[2][0], showfliers=False)\n",
    "df_merge.boxplot(column='duration_ms', by='target', ax=axes[2][1], showfliers=False)\n",
    "df_merge.boxplot(column='chorus_hit', by='target', ax=axes[2][2], showfliers=False)\n",
    "df_merge.boxplot(column='sections', by='target', ax=axes[2][3], showfliers=False)\n",
    "plt.tight_layout()\n",
    "plt.show()"
   ],
   "metadata": {
    "id": "SIx6XA8nmy5J",
    "colab": {
     "base_uri": "https://localhost:8080/",
     "height": 1000
    },
    "outputId": "2e44afe5-3e45-4f59-cc20-be69eac61aa4",
    "ExecuteTime": {
     "end_time": "2025-06-02T10:21:24.586688Z",
     "start_time": "2025-06-02T10:21:23.504403Z"
    }
   },
   "outputs": [
    {
     "data": {
      "text/plain": [
       "<Figure size 1200x1500 with 12 Axes>"
      ],
      "image/png": "[encoded data removed]"
     },
     "metadata": {},
     "output_type": "display_data"
    }
   ],
   "execution_count": 22
  },
  {
   "cell_type": "code",
   "source": [
    "#correlation between the predictors\n",
    "fig, ax = plt.subplots(figsize=(11,11)) \n",
    "ax = sns.heatmap(df_remove.corr(), annot=True, cmap='RdBu').set(title='Predictors Correlation Heatmap')"
   ],
   "metadata": {
    "id": "MiviF-2-HNMf",
    "colab": {
     "base_uri": "https://localhost:8080/",
     "height": 726
    },
    "outputId": "69eca409-2485-40ef-8404-7b4a588df2e7",
    "ExecuteTime": {
     "end_time": "2025-06-02T10:21:25.092783Z",
     "start_time": "2025-06-02T10:21:24.660360Z"
    }
   },
   "outputs": [
    {
     "data": {
      "text/plain": [
       "<Figure size 1100x1100 with 2 Axes>"
      ],
      "image/png": "[encoded data removed]"
     },
     "metadata": {},
     "output_type": "display_data"
    }
   ],
   "execution_count": 23
  },
  {
   "cell_type": "markdown",
   "source": [
    "# Building the Model"
   ],
   "metadata": {
    "id": "YUTQqtQqO3UV"
   }
  },
  {
   "cell_type": "markdown",
   "source": [
    "Creating X and Y"
   ],
   "metadata": {
    "id": "mYji37owVKNH"
   }
  },
  {
   "metadata": {
    "ExecuteTime": {
     "end_time": "2025-06-02T10:21:25.142192Z",
     "start_time": "2025-06-02T10:21:25.136570Z"
    }
   },
   "cell_type": "code",
   "source": "X = df_merge.iloc[:,1:17]",
   "outputs": [],
   "execution_count": 24
  },
  {
   "cell_type": "code",
   "source": "X.shape",
   "metadata": {
    "colab": {
     "base_uri": "https://localhost:8080/"
    },
    "id": "BM1ZIY3lQgW0",
    "outputId": "56a36945-29d7-44cf-840a-21208d87fed3",
    "ExecuteTime": {
     "end_time": "2025-06-02T10:21:25.186823Z",
     "start_time": "2025-06-02T10:21:25.181917Z"
    }
   },
   "outputs": [
    {
     "data": {
      "text/plain": [
       "(33401, 16)"
      ]
     },
     "execution_count": 25,
     "metadata": {},
     "output_type": "execute_result"
    }
   ],
   "execution_count": 25
  },
  {
   "cell_type": "code",
   "source": [
    "y = df_merge['target']\n",
    "y.shape"
   ],
   "metadata": {
    "colab": {
     "base_uri": "https://localhost:8080/"
    },
    "id": "zGZMPp8NQCGd",
    "outputId": "a66344f4-d213-4dbb-8dbc-a90638e58315",
    "ExecuteTime": {
     "end_time": "2025-06-02T10:21:25.248518Z",
     "start_time": "2025-06-02T10:21:25.243154Z"
    }
   },
   "outputs": [
    {
     "data": {
      "text/plain": [
       "(33401,)"
      ]
     },
     "execution_count": 26,
     "metadata": {},
     "output_type": "execute_result"
    }
   ],
   "execution_count": 26
  },
  {
   "metadata": {
    "ExecuteTime": {
     "end_time": "2025-06-02T10:21:38.396350Z",
     "start_time": "2025-06-02T10:21:25.295480Z"
    }
   },
   "cell_type": "code",
   "source": [
    "#create embeddings\n",
    "X = X.reset_index(drop=True)\n",
    "sbert_model = SentenceTransformer('all-MiniLM-L6-v2')\n",
    "title_embeddings = sbert_model.encode(X['track'].tolist())\n",
    "title_emb_df = pd.DataFrame(title_embeddings,\n",
    "                           columns=[f'track_emb_{i}' for i in range(title_embeddings.shape[1])])\n",
    "X = pd.concat([X.drop(columns=['track']), title_emb_df], axis=1).reset_index(drop=True)"
   ],
   "outputs": [],
   "execution_count": 27
  },
  {
   "metadata": {
    "ExecuteTime": {
     "end_time": "2025-06-02T10:21:38.474635Z",
     "start_time": "2025-06-02T10:21:38.453572Z"
    }
   },
   "cell_type": "code",
   "source": "X",
   "outputs": [
    {
     "data": {
      "text/plain": [
       "                  artist  danceability  energy  key  loudness  mode  \\\n",
       "0      Montgomery Gentry         0.578   0.471    4    -7.270     1   \n",
       "1           Pretty Ricky         0.704   0.854   10    -5.477     0   \n",
       "2             Candlemass         0.162   0.836    9    -3.009     1   \n",
       "3          Zwartketterij         0.188   0.994    4    -3.745     1   \n",
       "4       Billy Currington         0.630   0.764    2    -4.353     1   \n",
       "...                  ...           ...     ...  ...       ...   ...   \n",
       "33396       Reagan Youth         0.396   0.795    9    -6.070     0   \n",
       "33397       La Castañeda         0.621   0.655    9    -6.281     0   \n",
       "33398      Edie Brickell         0.562   0.314   10   -15.213     0   \n",
       "33399              KMFDM         0.622   0.781    7    -6.080     1   \n",
       "33400         Elton John         0.664   0.739    2    -9.005     1   \n",
       "\n",
       "       acousticness  liveness  valence    tempo  ...  track_emb_374  \\\n",
       "0          0.368000    0.1590    0.532  133.061  ...      -0.019067   \n",
       "1          0.018500    0.1480    0.688   92.988  ...      -0.080652   \n",
       "2          0.000111    0.1740    0.300   86.964  ...      -0.026394   \n",
       "3          0.000007    0.1920    0.333  148.440  ...       0.061416   \n",
       "4          0.363000    0.1250    0.631  112.098  ...       0.117432   \n",
       "...             ...       ...      ...      ...  ...            ...   \n",
       "33396      0.000928    0.1820    0.762  152.943  ...       0.094730   \n",
       "33397      0.050600    0.0937    0.690  134.167  ...      -0.038869   \n",
       "33398      0.440000    0.1060    0.571  166.847  ...       0.027974   \n",
       "33399      0.000101    0.3830    0.214  120.051  ...       0.080360   \n",
       "33400      0.106000    0.3330    0.458   92.257  ...       0.170622   \n",
       "\n",
       "       track_emb_375  track_emb_376  track_emb_377 track_emb_378  \\\n",
       "0          -0.027637      -0.001098       0.004216     -0.015133   \n",
       "1          -0.104472       0.026485      -0.042151     -0.015728   \n",
       "2           0.019266       0.006533       0.008130     -0.055564   \n",
       "3           0.035733       0.004343       0.050908     -0.080520   \n",
       "4          -0.086882       0.057570       0.048860     -0.034742   \n",
       "...              ...            ...            ...           ...   \n",
       "33396      -0.029172      -0.017985       0.017851     -0.048188   \n",
       "33397      -0.025881       0.012162       0.086097     -0.027411   \n",
       "33398       0.044029       0.006562      -0.052720     -0.027563   \n",
       "33399       0.032526      -0.000016       0.035505      0.019707   \n",
       "33400       0.065849       0.003749       0.075327     -0.048224   \n",
       "\n",
       "       track_emb_379  track_emb_380  track_emb_381  track_emb_382  \\\n",
       "0          -0.036565       0.123235      -0.079107      -0.104993   \n",
       "1           0.035541       0.113025       0.045435      -0.081078   \n",
       "2          -0.049505       0.131710       0.041360       0.030400   \n",
       "3           0.045158       0.088918      -0.135694       0.047798   \n",
       "4           0.038969      -0.019049       0.031466      -0.026418   \n",
       "...              ...            ...            ...            ...   \n",
       "33396       0.036629       0.082673       0.058863      -0.007090   \n",
       "33397      -0.072995       0.099734       0.094557       0.042427   \n",
       "33398      -0.046869       0.065921       0.051971      -0.035787   \n",
       "33399       0.004403       0.111630      -0.031499      -0.041450   \n",
       "33400       0.015629       0.164455      -0.013658       0.012799   \n",
       "\n",
       "       track_emb_383  \n",
       "0           0.067361  \n",
       "1           0.020217  \n",
       "2           0.036595  \n",
       "3           0.058296  \n",
       "4          -0.012443  \n",
       "...              ...  \n",
       "33396      -0.065915  \n",
       "33397      -0.071927  \n",
       "33398       0.007025  \n",
       "33399       0.053986  \n",
       "33400       0.013648  \n",
       "\n",
       "[33401 rows x 399 columns]"
      ],
      "text/html": [
       "<div>\n",
       "<style scoped>\n",
       "    .dataframe tbody tr th:only-of-type {\n",
       "        vertical-align: middle;\n",
       "    }\n",
       "\n",
       "    .dataframe tbody tr th {\n",
       "        vertical-align: top;\n",
       "    }\n",
       "\n",
       "    .dataframe thead th {\n",
       "        text-align: right;\n",
       "    }\n",
       "</style>\n",
       "<table border=\"1\" class=\"dataframe\">\n",
       "  <thead>\n",
       "    <tr style=\"text-align: right;\">\n",
       "      <th></th>\n",
       "      <th>artist</th>\n",
       "      <th>danceability</th>\n",
       "      <th>energy</th>\n",
       "      <th>key</th>\n",
       "      <th>loudness</th>\n",
       "      <th>mode</th>\n",
       "      <th>acousticness</th>\n",
       "      <th>liveness</th>\n",
       "      <th>valence</th>\n",
       "      <th>tempo</th>\n",
       "      <th>...</th>\n",
       "      <th>track_emb_374</th>\n",
       "      <th>track_emb_375</th>\n",
       "      <th>track_emb_376</th>\n",
       "      <th>track_emb_377</th>\n",
       "      <th>track_emb_378</th>\n",
       "      <th>track_emb_379</th>\n",
       "      <th>track_emb_380</th>\n",
       "      <th>track_emb_381</th>\n",
       "      <th>track_emb_382</th>\n",
       "      <th>track_emb_383</th>\n",
       "    </tr>\n",
       "  </thead>\n",
       "  <tbody>\n",
       "    <tr>\n",
       "      <th>0</th>\n",
       "      <td>Montgomery Gentry</td>\n",
       "      <td>0.578</td>\n",
       "      <td>0.471</td>\n",
       "      <td>4</td>\n",
       "      <td>-7.270</td>\n",
       "      <td>1</td>\n",
       "      <td>0.368000</td>\n",
       "      <td>0.1590</td>\n",
       "      <td>0.532</td>\n",
       "      <td>133.061</td>\n",
       "      <td>...</td>\n",
       "      <td>-0.019067</td>\n",
       "      <td>-0.027637</td>\n",
       "      <td>-0.001098</td>\n",
       "      <td>0.004216</td>\n",
       "      <td>-0.015133</td>\n",
       "      <td>-0.036565</td>\n",
       "      <td>0.123235</td>\n",
       "      <td>-0.079107</td>\n",
       "      <td>-0.104993</td>\n",
       "      <td>0.067361</td>\n",
       "    </tr>\n",
       "    <tr>\n",
       "      <th>1</th>\n",
       "      <td>Pretty Ricky</td>\n",
       "      <td>0.704</td>\n",
       "      <td>0.854</td>\n",
       "      <td>10</td>\n",
       "      <td>-5.477</td>\n",
       "      <td>0</td>\n",
       "      <td>0.018500</td>\n",
       "      <td>0.1480</td>\n",
       "      <td>0.688</td>\n",
       "      <td>92.988</td>\n",
       "      <td>...</td>\n",
       "      <td>-0.080652</td>\n",
       "      <td>-0.104472</td>\n",
       "      <td>0.026485</td>\n",
       "      <td>-0.042151</td>\n",
       "      <td>-0.015728</td>\n",
       "      <td>0.035541</td>\n",
       "      <td>0.113025</td>\n",
       "      <td>0.045435</td>\n",
       "      <td>-0.081078</td>\n",
       "      <td>0.020217</td>\n",
       "    </tr>\n",
       "    <tr>\n",
       "      <th>2</th>\n",
       "      <td>Candlemass</td>\n",
       "      <td>0.162</td>\n",
       "      <td>0.836</td>\n",
       "      <td>9</td>\n",
       "      <td>-3.009</td>\n",
       "      <td>1</td>\n",
       "      <td>0.000111</td>\n",
       "      <td>0.1740</td>\n",
       "      <td>0.300</td>\n",
       "      <td>86.964</td>\n",
       "      <td>...</td>\n",
       "      <td>-0.026394</td>\n",
       "      <td>0.019266</td>\n",
       "      <td>0.006533</td>\n",
       "      <td>0.008130</td>\n",
       "      <td>-0.055564</td>\n",
       "      <td>-0.049505</td>\n",
       "      <td>0.131710</td>\n",
       "      <td>0.041360</td>\n",
       "      <td>0.030400</td>\n",
       "      <td>0.036595</td>\n",
       "    </tr>\n",
       "    <tr>\n",
       "      <th>3</th>\n",
       "      <td>Zwartketterij</td>\n",
       "      <td>0.188</td>\n",
       "      <td>0.994</td>\n",
       "      <td>4</td>\n",
       "      <td>-3.745</td>\n",
       "      <td>1</td>\n",
       "      <td>0.000007</td>\n",
       "      <td>0.1920</td>\n",
       "      <td>0.333</td>\n",
       "      <td>148.440</td>\n",
       "      <td>...</td>\n",
       "      <td>0.061416</td>\n",
       "      <td>0.035733</td>\n",
       "      <td>0.004343</td>\n",
       "      <td>0.050908</td>\n",
       "      <td>-0.080520</td>\n",
       "      <td>0.045158</td>\n",
       "      <td>0.088918</td>\n",
       "      <td>-0.135694</td>\n",
       "      <td>0.047798</td>\n",
       "      <td>0.058296</td>\n",
       "    </tr>\n",
       "    <tr>\n",
       "      <th>4</th>\n",
       "      <td>Billy Currington</td>\n",
       "      <td>0.630</td>\n",
       "      <td>0.764</td>\n",
       "      <td>2</td>\n",
       "      <td>-4.353</td>\n",
       "      <td>1</td>\n",
       "      <td>0.363000</td>\n",
       "      <td>0.1250</td>\n",
       "      <td>0.631</td>\n",
       "      <td>112.098</td>\n",
       "      <td>...</td>\n",
       "      <td>0.117432</td>\n",
       "      <td>-0.086882</td>\n",
       "      <td>0.057570</td>\n",
       "      <td>0.048860</td>\n",
       "      <td>-0.034742</td>\n",
       "      <td>0.038969</td>\n",
       "      <td>-0.019049</td>\n",
       "      <td>0.031466</td>\n",
       "      <td>-0.026418</td>\n",
       "      <td>-0.012443</td>\n",
       "    </tr>\n",
       "    <tr>\n",
       "      <th>...</th>\n",
       "      <td>...</td>\n",
       "      <td>...</td>\n",
       "      <td>...</td>\n",
       "      <td>...</td>\n",
       "      <td>...</td>\n",
       "      <td>...</td>\n",
       "      <td>...</td>\n",
       "      <td>...</td>\n",
       "      <td>...</td>\n",
       "      <td>...</td>\n",
       "      <td>...</td>\n",
       "      <td>...</td>\n",
       "      <td>...</td>\n",
       "      <td>...</td>\n",
       "      <td>...</td>\n",
       "      <td>...</td>\n",
       "      <td>...</td>\n",
       "      <td>...</td>\n",
       "      <td>...</td>\n",
       "      <td>...</td>\n",
       "      <td>...</td>\n",
       "    </tr>\n",
       "    <tr>\n",
       "      <th>33396</th>\n",
       "      <td>Reagan Youth</td>\n",
       "      <td>0.396</td>\n",
       "      <td>0.795</td>\n",
       "      <td>9</td>\n",
       "      <td>-6.070</td>\n",
       "      <td>0</td>\n",
       "      <td>0.000928</td>\n",
       "      <td>0.1820</td>\n",
       "      <td>0.762</td>\n",
       "      <td>152.943</td>\n",
       "      <td>...</td>\n",
       "      <td>0.094730</td>\n",
       "      <td>-0.029172</td>\n",
       "      <td>-0.017985</td>\n",
       "      <td>0.017851</td>\n",
       "      <td>-0.048188</td>\n",
       "      <td>0.036629</td>\n",
       "      <td>0.082673</td>\n",
       "      <td>0.058863</td>\n",
       "      <td>-0.007090</td>\n",
       "      <td>-0.065915</td>\n",
       "    </tr>\n",
       "    <tr>\n",
       "      <th>33397</th>\n",
       "      <td>La Castañeda</td>\n",
       "      <td>0.621</td>\n",
       "      <td>0.655</td>\n",
       "      <td>9</td>\n",
       "      <td>-6.281</td>\n",
       "      <td>0</td>\n",
       "      <td>0.050600</td>\n",
       "      <td>0.0937</td>\n",
       "      <td>0.690</td>\n",
       "      <td>134.167</td>\n",
       "      <td>...</td>\n",
       "      <td>-0.038869</td>\n",
       "      <td>-0.025881</td>\n",
       "      <td>0.012162</td>\n",
       "      <td>0.086097</td>\n",
       "      <td>-0.027411</td>\n",
       "      <td>-0.072995</td>\n",
       "      <td>0.099734</td>\n",
       "      <td>0.094557</td>\n",
       "      <td>0.042427</td>\n",
       "      <td>-0.071927</td>\n",
       "    </tr>\n",
       "    <tr>\n",
       "      <th>33398</th>\n",
       "      <td>Edie Brickell</td>\n",
       "      <td>0.562</td>\n",
       "      <td>0.314</td>\n",
       "      <td>10</td>\n",
       "      <td>-15.213</td>\n",
       "      <td>0</td>\n",
       "      <td>0.440000</td>\n",
       "      <td>0.1060</td>\n",
       "      <td>0.571</td>\n",
       "      <td>166.847</td>\n",
       "      <td>...</td>\n",
       "      <td>0.027974</td>\n",
       "      <td>0.044029</td>\n",
       "      <td>0.006562</td>\n",
       "      <td>-0.052720</td>\n",
       "      <td>-0.027563</td>\n",
       "      <td>-0.046869</td>\n",
       "      <td>0.065921</td>\n",
       "      <td>0.051971</td>\n",
       "      <td>-0.035787</td>\n",
       "      <td>0.007025</td>\n",
       "    </tr>\n",
       "    <tr>\n",
       "      <th>33399</th>\n",
       "      <td>KMFDM</td>\n",
       "      <td>0.622</td>\n",
       "      <td>0.781</td>\n",
       "      <td>7</td>\n",
       "      <td>-6.080</td>\n",
       "      <td>1</td>\n",
       "      <td>0.000101</td>\n",
       "      <td>0.3830</td>\n",
       "      <td>0.214</td>\n",
       "      <td>120.051</td>\n",
       "      <td>...</td>\n",
       "      <td>0.080360</td>\n",
       "      <td>0.032526</td>\n",
       "      <td>-0.000016</td>\n",
       "      <td>0.035505</td>\n",
       "      <td>0.019707</td>\n",
       "      <td>0.004403</td>\n",
       "      <td>0.111630</td>\n",
       "      <td>-0.031499</td>\n",
       "      <td>-0.041450</td>\n",
       "      <td>0.053986</td>\n",
       "    </tr>\n",
       "    <tr>\n",
       "      <th>33400</th>\n",
       "      <td>Elton John</td>\n",
       "      <td>0.664</td>\n",
       "      <td>0.739</td>\n",
       "      <td>2</td>\n",
       "      <td>-9.005</td>\n",
       "      <td>1</td>\n",
       "      <td>0.106000</td>\n",
       "      <td>0.3330</td>\n",
       "      <td>0.458</td>\n",
       "      <td>92.257</td>\n",
       "      <td>...</td>\n",
       "      <td>0.170622</td>\n",
       "      <td>0.065849</td>\n",
       "      <td>0.003749</td>\n",
       "      <td>0.075327</td>\n",
       "      <td>-0.048224</td>\n",
       "      <td>0.015629</td>\n",
       "      <td>0.164455</td>\n",
       "      <td>-0.013658</td>\n",
       "      <td>0.012799</td>\n",
       "      <td>0.013648</td>\n",
       "    </tr>\n",
       "  </tbody>\n",
       "</table>\n",
       "<p>33401 rows × 399 columns</p>\n",
       "</div>"
      ]
     },
     "execution_count": 28,
     "metadata": {},
     "output_type": "execute_result"
    }
   ],
   "execution_count": 28
  },
  {
   "metadata": {
    "ExecuteTime": {
     "end_time": "2025-06-02T10:21:38.604799Z",
     "start_time": "2025-06-02T10:21:38.599936Z"
    }
   },
   "cell_type": "code",
   "source": "X.shape",
   "outputs": [
    {
     "data": {
      "text/plain": [
       "(33401, 399)"
      ]
     },
     "execution_count": 29,
     "metadata": {},
     "output_type": "execute_result"
    }
   ],
   "execution_count": 29
  },
  {
   "cell_type": "code",
   "source": [
    "X_train_valid, X_test, y_train_valid, y_test = train_test_split(X, y, train_size=0.8, shuffle=True, random_state=RANDOM_STATE)\n",
    "X_train, X_valid, y_train, y_valid = train_test_split(X_train_valid, y_train_valid, train_size=0.75, shuffle=True, random_state=RANDOM_STATE)"
   ],
   "metadata": {
    "id": "ig9tCBus8sge",
    "ExecuteTime": {
     "end_time": "2025-06-02T10:21:38.865893Z",
     "start_time": "2025-06-02T10:21:38.801262Z"
    }
   },
   "outputs": [],
   "execution_count": 30
  },
  {
   "cell_type": "markdown",
   "source": [
    "# First Model Training"
   ],
   "metadata": {
    "id": "pT8-XBQg8n-n"
   }
  },
  {
   "cell_type": "code",
   "source": [
    "#define models\n",
    "models = {\n",
    "    \"                   Logistic Regression\": LogisticRegression(random_state=RANDOM_STATE, max_iter=500000),\n",
    "    \"                   K-Nearest Neighbors\": KNeighborsClassifier(),\n",
    "    \"Support Vector Machine (Linear Kernel)\": LinearSVC(random_state=RANDOM_STATE, max_iter=500000),\n",
    "    \"   Support Vector Machine (RBF Kernel)\": SVC(random_state=RANDOM_STATE, max_iter=500000),\n",
    "    \"               Neural Network(sklearn)\": MLPClassifier(max_iter=500000, random_state=RANDOM_STATE),\n",
    "    \"                         Random Forest\": RandomForestClassifier(random_state=RANDOM_STATE),\n",
    "    \"                              Catboost\": CatBoostClassifier(logging_level = 'Silent',random_state=RANDOM_STATE),\n",
    "    \"                               Xgboost\": xgb.XGBClassifier(random_state=RANDOM_STATE),\n",
    "    \"                                   LDA\": LinearDiscriminantAnalysis(),\n",
    "    \"                           Naive Bayes\": GaussianNB(),\n",
    "    \"                                 Ridge\": Ridge(random_state=RANDOM_STATE, max_iter=500000),\n",
    "}\n",
    "#define preprocessor\n",
    "categorical_cols = ['artist', 'decade_of_release']\n",
    "numerical_cols = [col for col in X.columns if col not in categorical_cols]\n",
    "preprocessor = ColumnTransformer([\n",
    "    ('artist_encoder', TargetEncoder(smooth=\"auto\", random_state=RANDOM_STATE), ['artist']),\n",
    "    ('decade_encoder', OneHotEncoder(drop='first', sparse_output=False), ['decade_of_release']),\n",
    "    ('scaler', StandardScaler(), numerical_cols)\n",
    "], remainder='passthrough')"
   ],
   "metadata": {
    "colab": {
     "base_uri": "https://localhost:8080/"
    },
    "id": "1Se49IBLPJY0",
    "outputId": "02507975-855c-4a63-9a22-3c944878b7de",
    "ExecuteTime": {
     "end_time": "2025-06-02T10:21:39.519049Z",
     "start_time": "2025-06-02T10:21:39.510827Z"
    }
   },
   "outputs": [],
   "execution_count": 31
  },
  {
   "cell_type": "code",
   "source": [
    "#3-fold cross validation for choosing the top models\n",
    "mean_df = []\n",
    "for name, model in models.items():\n",
    "    mean_arr = {}\n",
    "    cv = KFold(n_splits=3, shuffle=True, random_state=RANDOM_STATE)\n",
    "    pipe = Pipeline([\n",
    "    ('preprocessor', preprocessor),\n",
    "    ('model', model)])\n",
    "    cv_results = cross_val_score(pipe, X_train_valid, y_train_valid, cv=cv)\n",
    "    mean = np.mean(cv_results)\n",
    "    print(name, mean)\n",
    "    mean_arr['name']=name\n",
    "    mean_arr['result']=mean\n",
    "    mean_df.append(mean_arr)"
   ],
   "metadata": {
    "colab": {
     "base_uri": "https://localhost:8080/"
    },
    "id": "-NrAzoYPjOEW",
    "outputId": "53909909-2c27-4b2a-aca4-d9422be69827",
    "ExecuteTime": {
     "end_time": "2025-06-02T10:30:52.212886Z",
     "start_time": "2025-06-02T10:21:39.592181Z"
    }
   },
   "outputs": [
    {
     "name": "stdout",
     "output_type": "stream",
     "text": [
      "                   Logistic Regression 0.9532559850916155\n",
      "                   K-Nearest Neighbors 0.75976790316902\n",
      "Support Vector Machine (Linear Kernel) 0.9528817349942553\n",
      "   Support Vector Machine (RBF Kernel) 0.9302022370829719\n",
      "               Neural Network(sklearn) 0.9420285452020524\n",
      "                         Random Forest 0.9465943518477689\n",
      "                              Catboost 0.9590944303216644\n",
      "                               Xgboost 0.9566243872428365\n",
      "                                   LDA 0.9540420561083437\n",
      "                           Naive Bayes 0.8589444352965102\n",
      "                                 Ridge 0.7877360644237127\n"
     ]
    }
   ],
   "execution_count": 32
  },
  {
   "cell_type": "code",
   "source": "pd.DataFrame(mean_df).sort_values('result',ascending=False)",
   "metadata": {
    "colab": {
     "base_uri": "https://localhost:8080/",
     "height": 300
    },
    "id": "6sQLwsWhkfGp",
    "outputId": "93499672-c58c-4253-8733-dd02d608d5b8",
    "ExecuteTime": {
     "end_time": "2025-06-02T10:30:52.469499Z",
     "start_time": "2025-06-02T10:30:52.460517Z"
    }
   },
   "outputs": [
    {
     "data": {
      "text/plain": [
       "                                      name    result\n",
       "6                                 Catboost  0.959094\n",
       "7                                  Xgboost  0.956624\n",
       "8                                      LDA  0.954042\n",
       "0                      Logistic Regression  0.953256\n",
       "2   Support Vector Machine (Linear Kernel)  0.952882\n",
       "5                            Random Forest  0.946594\n",
       "4                  Neural Network(sklearn)  0.942029\n",
       "3      Support Vector Machine (RBF Kernel)  0.930202\n",
       "9                              Naive Bayes  0.858944\n",
       "10                                   Ridge  0.787736\n",
       "1                      K-Nearest Neighbors  0.759768"
      ],
      "text/html": [
       "<div>\n",
       "<style scoped>\n",
       "    .dataframe tbody tr th:only-of-type {\n",
       "        vertical-align: middle;\n",
       "    }\n",
       "\n",
       "    .dataframe tbody tr th {\n",
       "        vertical-align: top;\n",
       "    }\n",
       "\n",
       "    .dataframe thead th {\n",
       "        text-align: right;\n",
       "    }\n",
       "</style>\n",
       "<table border=\"1\" class=\"dataframe\">\n",
       "  <thead>\n",
       "    <tr style=\"text-align: right;\">\n",
       "      <th></th>\n",
       "      <th>name</th>\n",
       "      <th>result</th>\n",
       "    </tr>\n",
       "  </thead>\n",
       "  <tbody>\n",
       "    <tr>\n",
       "      <th>6</th>\n",
       "      <td>Catboost</td>\n",
       "      <td>0.959094</td>\n",
       "    </tr>\n",
       "    <tr>\n",
       "      <th>7</th>\n",
       "      <td>Xgboost</td>\n",
       "      <td>0.956624</td>\n",
       "    </tr>\n",
       "    <tr>\n",
       "      <th>8</th>\n",
       "      <td>LDA</td>\n",
       "      <td>0.954042</td>\n",
       "    </tr>\n",
       "    <tr>\n",
       "      <th>0</th>\n",
       "      <td>Logistic Regression</td>\n",
       "      <td>0.953256</td>\n",
       "    </tr>\n",
       "    <tr>\n",
       "      <th>2</th>\n",
       "      <td>Support Vector Machine (Linear Kernel)</td>\n",
       "      <td>0.952882</td>\n",
       "    </tr>\n",
       "    <tr>\n",
       "      <th>5</th>\n",
       "      <td>Random Forest</td>\n",
       "      <td>0.946594</td>\n",
       "    </tr>\n",
       "    <tr>\n",
       "      <th>4</th>\n",
       "      <td>Neural Network(sklearn)</td>\n",
       "      <td>0.942029</td>\n",
       "    </tr>\n",
       "    <tr>\n",
       "      <th>3</th>\n",
       "      <td>Support Vector Machine (RBF Kernel)</td>\n",
       "      <td>0.930202</td>\n",
       "    </tr>\n",
       "    <tr>\n",
       "      <th>9</th>\n",
       "      <td>Naive Bayes</td>\n",
       "      <td>0.858944</td>\n",
       "    </tr>\n",
       "    <tr>\n",
       "      <th>10</th>\n",
       "      <td>Ridge</td>\n",
       "      <td>0.787736</td>\n",
       "    </tr>\n",
       "    <tr>\n",
       "      <th>1</th>\n",
       "      <td>K-Nearest Neighbors</td>\n",
       "      <td>0.759768</td>\n",
       "    </tr>\n",
       "  </tbody>\n",
       "</table>\n",
       "</div>"
      ]
     },
     "execution_count": 33,
     "metadata": {},
     "output_type": "execute_result"
    }
   ],
   "execution_count": 33
  },
  {
   "metadata": {},
   "cell_type": "markdown",
   "source": [
    "### Intermediate conclusions\n",
    "We have three directions in which we can go in search of the best possible outcome\n",
    "1. Gradient boosting\n",
    "2. Regression\n",
    "3. Neural Network\n",
    "\n",
    "\n",
    "Good NN result can be achieved by using Torch model. For other models i can use hyperparameter tuning"
   ]
  },
  {
   "cell_type": "markdown",
   "source": "# **Hyperparameter tuning and choosing the best model**",
   "metadata": {
    "id": "QeBSK7HZaDiw"
   }
  },
  {
   "metadata": {},
   "cell_type": "markdown",
   "source": "### Log regression"
  },
  {
   "metadata": {
    "ExecuteTime": {
     "end_time": "2025-06-02T10:31:30.409701Z",
     "start_time": "2025-06-02T10:30:52.638451Z"
    }
   },
   "cell_type": "code",
   "source": [
    "def objective(trial):\n",
    "    penalty = trial.suggest_categorical('penalty', ['l1', 'l2', 'elasticnet', 'none'])\n",
    "\n",
    "    params = {\n",
    "        'penalty': penalty,\n",
    "        'C': trial.suggest_float('C', 1e-4, 100, log=True),\n",
    "        'solver': trial.suggest_categorical('solver', ['newton-cg', 'lbfgs', 'liblinear', 'sag', 'saga']),\n",
    "        'max_iter': trial.suggest_int('max_iter', 10000, 500000),\n",
    "        'class_weight': trial.suggest_categorical('class_weight', [None, 'balanced']),\n",
    "        'random_state': RANDOM_STATE\n",
    "    }\n",
    "\n",
    "    if penalty == 'elasticnet':\n",
    "        params['l1_ratio'] = trial.suggest_float('l1_ratio', 0, 1)\n",
    "\n",
    "    if penalty == 'none':\n",
    "        params.pop('C', None)\n",
    "        params.pop('l1_ratio', None)\n",
    "\n",
    "    try:\n",
    "        reg_model = LogisticRegression(**params)\n",
    "        reg_pipe = Pipeline([\n",
    "            ('preprocessor', preprocessor),\n",
    "            ('model', reg_model)\n",
    "        ])\n",
    "        reg_pipe.fit(X_train, y_train)\n",
    "        predictions = reg_pipe.predict(X_valid)\n",
    "        score = accuracy_score(y_valid, predictions)\n",
    "        return score\n",
    "    except ValueError as e:\n",
    "        print(f\"skipping incompatible parameters: {params}, err: {str(e)}\")\n",
    "        return 0.0\n",
    "\n",
    "reg_study = optuna.create_study(direction='maximize')\n",
    "reg_study.optimize(objective, n_trials=30)\n",
    "print(f'Best hyperparameters: {reg_study.best_params}')\n",
    "print(f'Best accuracy_score: {reg_study.best_value}')"
   ],
   "outputs": [
    {
     "name": "stderr",
     "output_type": "stream",
     "text": [
      "[I 2025-06-02 13:30:52,643] A new study created in memory with name: no-name-3d10da12-2289-4feb-8521-207c8c3a28db\n",
      "[I 2025-06-02 13:30:52,858] Trial 0 finished with value: 0.0 and parameters: {'penalty': 'elasticnet', 'C': 48.48574745646056, 'solver': 'lbfgs', 'max_iter': 37535, 'class_weight': None, 'l1_ratio': 0.6901484349631217}. Best is trial 0 with value: 0.0.\n"
     ]
    },
    {
     "name": "stdout",
     "output_type": "stream",
     "text": [
      "skipping incompatible parameters: {'penalty': 'elasticnet', 'C': 48.48574745646056, 'solver': 'lbfgs', 'max_iter': 37535, 'class_weight': None, 'random_state': 21, 'l1_ratio': 0.6901484349631217}, err: Solver lbfgs supports only 'l2' or None penalties, got elasticnet penalty.\n"
     ]
    },
    {
     "name": "stderr",
     "output_type": "stream",
     "text": [
      "[I 2025-06-02 13:30:54,054] Trial 1 finished with value: 0.9523952095808383 and parameters: {'penalty': 'l1', 'C': 0.023762598374888474, 'solver': 'liblinear', 'max_iter': 404976, 'class_weight': None}. Best is trial 1 with value: 0.9523952095808383.\n",
      "[I 2025-06-02 13:30:58,277] Trial 2 finished with value: 0.9540419161676646 and parameters: {'penalty': 'l2', 'C': 0.07551333087495626, 'solver': 'saga', 'max_iter': 225561, 'class_weight': None}. Best is trial 2 with value: 0.9540419161676646.\n",
      "[I 2025-06-02 13:31:00,407] Trial 3 finished with value: 0.9535928143712575 and parameters: {'penalty': 'l2', 'C': 0.07117019557064354, 'solver': 'sag', 'max_iter': 398033, 'class_weight': 'balanced'}. Best is trial 2 with value: 0.9540419161676646.\n",
      "[I 2025-06-02 13:31:01,471] Trial 4 finished with value: 0.9540419161676646 and parameters: {'penalty': 'l2', 'C': 28.378724668059725, 'solver': 'newton-cg', 'max_iter': 408138, 'class_weight': 'balanced'}. Best is trial 2 with value: 0.9540419161676646.\n",
      "[I 2025-06-02 13:31:01,641] Trial 5 finished with value: 0.0 and parameters: {'penalty': 'none', 'C': 0.131855786574184, 'solver': 'lbfgs', 'max_iter': 149761, 'class_weight': None}. Best is trial 2 with value: 0.9540419161676646.\n",
      "[I 2025-06-02 13:31:01,817] Trial 6 finished with value: 0.0 and parameters: {'penalty': 'l1', 'C': 5.749417620545008, 'solver': 'sag', 'max_iter': 417297, 'class_weight': 'balanced'}. Best is trial 2 with value: 0.9540419161676646.\n"
     ]
    },
    {
     "name": "stdout",
     "output_type": "stream",
     "text": [
      "skipping incompatible parameters: {'penalty': 'none', 'solver': 'lbfgs', 'max_iter': 149761, 'class_weight': None, 'random_state': 21}, err: The 'penalty' parameter of LogisticRegression must be a str among {'elasticnet', 'l2', 'l1'} or None. Got 'none' instead.\n",
      "skipping incompatible parameters: {'penalty': 'l1', 'C': 5.749417620545008, 'solver': 'sag', 'max_iter': 417297, 'class_weight': 'balanced', 'random_state': 21}, err: Solver sag supports only 'l2' or None penalties, got l1 penalty.\n"
     ]
    },
    {
     "name": "stderr",
     "output_type": "stream",
     "text": [
      "[I 2025-06-02 13:31:03,530] Trial 7 finished with value: 0.9529940119760479 and parameters: {'penalty': 'l2', 'C': 0.041840188167431985, 'solver': 'liblinear', 'max_iter': 124446, 'class_weight': 'balanced'}. Best is trial 2 with value: 0.9540419161676646.\n",
      "[I 2025-06-02 13:31:04,101] Trial 8 finished with value: 0.9390718562874252 and parameters: {'penalty': 'l1', 'C': 0.0032472737799709027, 'solver': 'liblinear', 'max_iter': 77891, 'class_weight': 'balanced'}. Best is trial 2 with value: 0.9540419161676646.\n",
      "[I 2025-06-02 13:31:04,282] Trial 9 finished with value: 0.0 and parameters: {'penalty': 'none', 'C': 0.0034652271601049553, 'solver': 'sag', 'max_iter': 336939, 'class_weight': None}. Best is trial 2 with value: 0.9540419161676646.\n"
     ]
    },
    {
     "name": "stdout",
     "output_type": "stream",
     "text": [
      "skipping incompatible parameters: {'penalty': 'none', 'solver': 'sag', 'max_iter': 336939, 'class_weight': None, 'random_state': 21}, err: The 'penalty' parameter of LogisticRegression must be a str among {'elasticnet', 'l2', 'l1'} or None. Got 'none' instead.\n"
     ]
    },
    {
     "name": "stderr",
     "output_type": "stream",
     "text": [
      "[I 2025-06-02 13:31:05,595] Trial 10 finished with value: 0.8248502994011976 and parameters: {'penalty': 'elasticnet', 'C': 0.00010753600041061808, 'solver': 'saga', 'max_iter': 233627, 'class_weight': None, 'l1_ratio': 0.04374596359580396}. Best is trial 2 with value: 0.9540419161676646.\n",
      "[I 2025-06-02 13:31:06,496] Trial 11 finished with value: 0.9532934131736527 and parameters: {'penalty': 'l2', 'C': 1.7285673688164669, 'solver': 'newton-cg', 'max_iter': 489957, 'class_weight': 'balanced'}. Best is trial 2 with value: 0.9540419161676646.\n",
      "[I 2025-06-02 13:31:17,366] Trial 12 finished with value: 0.9537425149700599 and parameters: {'penalty': 'l2', 'C': 88.08450883998393, 'solver': 'saga', 'max_iter': 253460, 'class_weight': None}. Best is trial 2 with value: 0.9540419161676646.\n",
      "[I 2025-06-02 13:31:18,320] Trial 13 finished with value: 0.9529940119760479 and parameters: {'penalty': 'l2', 'C': 0.9858319600047735, 'solver': 'newton-cg', 'max_iter': 301728, 'class_weight': 'balanced'}. Best is trial 2 with value: 0.9540419161676646.\n",
      "[I 2025-06-02 13:31:19,334] Trial 14 finished with value: 0.9540419161676646 and parameters: {'penalty': 'l2', 'C': 9.275069474528111, 'solver': 'newton-cg', 'max_iter': 192096, 'class_weight': None}. Best is trial 2 with value: 0.9540419161676646.\n",
      "[I 2025-06-02 13:31:24,854] Trial 15 finished with value: 0.9531437125748503 and parameters: {'penalty': 'l2', 'C': 0.3950328163618922, 'solver': 'saga', 'max_iter': 337464, 'class_weight': 'balanced'}. Best is trial 2 with value: 0.9540419161676646.\n",
      "[I 2025-06-02 13:31:25,752] Trial 16 finished with value: 0.9468562874251497 and parameters: {'penalty': 'l2', 'C': 0.0058089607668989195, 'solver': 'saga', 'max_iter': 484804, 'class_weight': None}. Best is trial 2 with value: 0.9540419161676646.\n",
      "[I 2025-06-02 13:31:25,935] Trial 17 finished with value: 0.0 and parameters: {'penalty': 'elasticnet', 'C': 0.00016557256812196105, 'solver': 'newton-cg', 'max_iter': 203444, 'class_weight': 'balanced', 'l1_ratio': 0.9704245706484022}. Best is trial 2 with value: 0.9540419161676646.\n",
      "[I 2025-06-02 13:31:26,116] Trial 18 finished with value: 0.0 and parameters: {'penalty': 'none', 'C': 6.115784707973947, 'solver': 'newton-cg', 'max_iter': 332069, 'class_weight': None}. Best is trial 2 with value: 0.9540419161676646.\n"
     ]
    },
    {
     "name": "stdout",
     "output_type": "stream",
     "text": [
      "skipping incompatible parameters: {'penalty': 'elasticnet', 'C': 0.00016557256812196105, 'solver': 'newton-cg', 'max_iter': 203444, 'class_weight': 'balanced', 'random_state': 21, 'l1_ratio': 0.9704245706484022}, err: Solver newton-cg supports only 'l2' or None penalties, got elasticnet penalty.\n",
      "skipping incompatible parameters: {'penalty': 'none', 'solver': 'newton-cg', 'max_iter': 332069, 'class_weight': None, 'random_state': 21}, err: The 'penalty' parameter of LogisticRegression must be a str among {'elasticnet', 'l2', 'l1'} or None. Got 'none' instead.\n"
     ]
    },
    {
     "name": "stderr",
     "output_type": "stream",
     "text": [
      "[I 2025-06-02 13:31:27,011] Trial 19 finished with value: 0.8820359281437126 and parameters: {'penalty': 'l2', 'C': 0.0006410573289935544, 'solver': 'saga', 'max_iter': 288776, 'class_weight': 'balanced'}. Best is trial 2 with value: 0.9540419161676646.\n",
      "[I 2025-06-02 13:31:27,469] Trial 20 finished with value: 0.9544910179640719 and parameters: {'penalty': 'l2', 'C': 0.37289556885956765, 'solver': 'lbfgs', 'max_iter': 435467, 'class_weight': None}. Best is trial 20 with value: 0.9544910179640719.\n",
      "[I 2025-06-02 13:31:27,894] Trial 21 finished with value: 0.9544910179640719 and parameters: {'penalty': 'l2', 'C': 0.2859606471851617, 'solver': 'lbfgs', 'max_iter': 442542, 'class_weight': None}. Best is trial 20 with value: 0.9544910179640719.\n",
      "[I 2025-06-02 13:31:28,310] Trial 22 finished with value: 0.9544910179640719 and parameters: {'penalty': 'l2', 'C': 0.20308664468286478, 'solver': 'lbfgs', 'max_iter': 446359, 'class_weight': None}. Best is trial 20 with value: 0.9544910179640719.\n",
      "[I 2025-06-02 13:31:28,774] Trial 23 finished with value: 0.9546407185628742 and parameters: {'penalty': 'l2', 'C': 0.32371439984901307, 'solver': 'lbfgs', 'max_iter': 469156, 'class_weight': None}. Best is trial 23 with value: 0.9546407185628742.\n",
      "[I 2025-06-02 13:31:29,254] Trial 24 finished with value: 0.9540419161676646 and parameters: {'penalty': 'l2', 'C': 1.169738581715248, 'solver': 'lbfgs', 'max_iter': 457272, 'class_weight': None}. Best is trial 23 with value: 0.9546407185628742.\n",
      "[I 2025-06-02 13:31:29,693] Trial 25 finished with value: 0.9544910179640719 and parameters: {'penalty': 'l2', 'C': 0.2930917341318478, 'solver': 'lbfgs', 'max_iter': 453704, 'class_weight': None}. Best is trial 23 with value: 0.9546407185628742.\n",
      "[I 2025-06-02 13:31:29,866] Trial 26 finished with value: 0.0 and parameters: {'penalty': 'l1', 'C': 0.012070385455977755, 'solver': 'lbfgs', 'max_iter': 496202, 'class_weight': None}. Best is trial 23 with value: 0.9546407185628742.\n",
      "[I 2025-06-02 13:31:30,042] Trial 27 finished with value: 0.0 and parameters: {'penalty': 'elasticnet', 'C': 2.4845089314931283, 'solver': 'lbfgs', 'max_iter': 364482, 'class_weight': None, 'l1_ratio': 0.07880975070700558}. Best is trial 23 with value: 0.9546407185628742.\n"
     ]
    },
    {
     "name": "stdout",
     "output_type": "stream",
     "text": [
      "skipping incompatible parameters: {'penalty': 'l1', 'C': 0.012070385455977755, 'solver': 'lbfgs', 'max_iter': 496202, 'class_weight': None, 'random_state': 21}, err: Solver lbfgs supports only 'l2' or None penalties, got l1 penalty.\n",
      "skipping incompatible parameters: {'penalty': 'elasticnet', 'C': 2.4845089314931283, 'solver': 'lbfgs', 'max_iter': 364482, 'class_weight': None, 'random_state': 21, 'l1_ratio': 0.07880975070700558}, err: Solver lbfgs supports only 'l2' or None penalties, got elasticnet penalty.\n"
     ]
    },
    {
     "name": "stderr",
     "output_type": "stream",
     "text": [
      "[I 2025-06-02 13:31:30,225] Trial 28 finished with value: 0.0 and parameters: {'penalty': 'none', 'C': 0.5595228128184252, 'solver': 'lbfgs', 'max_iter': 367151, 'class_weight': None}. Best is trial 23 with value: 0.9546407185628742.\n",
      "[I 2025-06-02 13:31:30,406] Trial 29 finished with value: 0.0 and parameters: {'penalty': 'elasticnet', 'C': 0.028750958039920664, 'solver': 'lbfgs', 'max_iter': 436029, 'class_weight': None, 'l1_ratio': 0.47902450643701755}. Best is trial 23 with value: 0.9546407185628742.\n"
     ]
    },
    {
     "name": "stdout",
     "output_type": "stream",
     "text": [
      "skipping incompatible parameters: {'penalty': 'none', 'solver': 'lbfgs', 'max_iter': 367151, 'class_weight': None, 'random_state': 21}, err: The 'penalty' parameter of LogisticRegression must be a str among {'elasticnet', 'l2', 'l1'} or None. Got 'none' instead.\n",
      "skipping incompatible parameters: {'penalty': 'elasticnet', 'C': 0.028750958039920664, 'solver': 'lbfgs', 'max_iter': 436029, 'class_weight': None, 'random_state': 21, 'l1_ratio': 0.47902450643701755}, err: Solver lbfgs supports only 'l2' or None penalties, got elasticnet penalty.\n",
      "Best hyperparameters: {'penalty': 'l2', 'C': 0.32371439984901307, 'solver': 'lbfgs', 'max_iter': 469156, 'class_weight': None}\n",
      "Best accuracy_score: 0.9546407185628742\n"
     ]
    }
   ],
   "execution_count": 34
  },
  {
   "metadata": {},
   "cell_type": "markdown",
   "source": "### Catboost"
  },
  {
   "metadata": {
    "ExecuteTime": {
     "end_time": "2025-06-02T10:47:06.540318Z",
     "start_time": "2025-06-02T10:31:30.528067Z"
    }
   },
   "cell_type": "code",
   "source": [
    "def objective(trial):\n",
    "    params = {\n",
    "        \"iterations\": 1000,\n",
    "        \"learning_rate\": trial.suggest_float(\"learning_rate\", 1e-3, 0.1, log=True),\n",
    "        \"depth\": trial.suggest_int(\"depth\", 1, 10),\n",
    "        \"subsample\": trial.suggest_float(\"subsample\", 0.05, 1.0),\n",
    "        \"colsample_bylevel\": trial.suggest_float(\"colsample_bylevel\", 0.05, 1.0),\n",
    "        \"min_data_in_leaf\": trial.suggest_int(\"min_data_in_leaf\", 1, 100),\n",
    "    }\n",
    "\n",
    "    catboost_model = CatBoostClassifier(**params, logging_level = 'Silent',random_state=RANDOM_STATE)\n",
    "    cat_pipe = Pipeline([\n",
    "    ('preprocessor', preprocessor),\n",
    "    ('model', catboost_model)])\n",
    "    cat_pipe.fit(X_train, y_train)\n",
    "    predictions = cat_pipe.predict(X_valid)\n",
    "    score = accuracy_score(y_valid, predictions)\n",
    "    return score\n",
    "catboost_study = optuna.create_study(direction='maximize')\n",
    "catboost_study.optimize(objective, n_trials=15)\n",
    "print(f'Best hyperparameters: {catboost_study.best_params}')\n",
    "print(f'Best accuracy_score: {catboost_study.best_value}')"
   ],
   "outputs": [
    {
     "name": "stderr",
     "output_type": "stream",
     "text": [
      "[I 2025-06-02 13:31:30,531] A new study created in memory with name: no-name-ffa70461-6d0d-4a9a-8329-3821d76fc8c1\n",
      "[I 2025-06-02 13:31:52,550] Trial 0 finished with value: 0.9441616766467066 and parameters: {'learning_rate': 0.002744166451317147, 'depth': 5, 'subsample': 0.1907213464278073, 'colsample_bylevel': 0.7305177884776614, 'min_data_in_leaf': 87}. Best is trial 0 with value: 0.9441616766467066.\n",
      "[I 2025-06-02 13:32:02,172] Trial 1 finished with value: 0.9561377245508982 and parameters: {'learning_rate': 0.050830539805029974, 'depth': 2, 'subsample': 0.9325064384571143, 'colsample_bylevel': 0.596631477048437, 'min_data_in_leaf': 23}. Best is trial 1 with value: 0.9561377245508982.\n",
      "[I 2025-06-02 13:32:08,724] Trial 2 finished with value: 0.9188622754491018 and parameters: {'learning_rate': 0.0027706076688191806, 'depth': 1, 'subsample': 0.9777579870978494, 'colsample_bylevel': 0.24764599294032535, 'min_data_in_leaf': 13}. Best is trial 1 with value: 0.9561377245508982.\n",
      "[I 2025-06-02 13:32:14,980] Trial 3 finished with value: 0.912874251497006 and parameters: {'learning_rate': 0.0017734072305366135, 'depth': 1, 'subsample': 0.5352946681727665, 'colsample_bylevel': 0.20327440008613057, 'min_data_in_leaf': 13}. Best is trial 1 with value: 0.9561377245508982.\n",
      "[I 2025-06-02 13:33:28,301] Trial 4 finished with value: 0.944311377245509 and parameters: {'learning_rate': 0.0012390076207916792, 'depth': 9, 'subsample': 0.9895962532892433, 'colsample_bylevel': 0.21180618077507563, 'min_data_in_leaf': 96}. Best is trial 1 with value: 0.9561377245508982.\n",
      "[I 2025-06-02 13:33:49,040] Trial 5 finished with value: 0.9538922155688623 and parameters: {'learning_rate': 0.03257542655104899, 'depth': 5, 'subsample': 0.09124859289079609, 'colsample_bylevel': 0.611357345834316, 'min_data_in_leaf': 78}. Best is trial 1 with value: 0.9561377245508982.\n",
      "[I 2025-06-02 13:34:46,978] Trial 6 finished with value: 0.9577844311377246 and parameters: {'learning_rate': 0.01233940371976231, 'depth': 7, 'subsample': 0.6973217866135634, 'colsample_bylevel': 0.8327436772027905, 'min_data_in_leaf': 31}. Best is trial 6 with value: 0.9577844311377246.\n",
      "[I 2025-06-02 13:35:03,756] Trial 7 finished with value: 0.9399700598802395 and parameters: {'learning_rate': 0.001990273385049677, 'depth': 5, 'subsample': 0.7543307507319195, 'colsample_bylevel': 0.3015717146169399, 'min_data_in_leaf': 6}. Best is trial 6 with value: 0.9577844311377246.\n",
      "[I 2025-06-02 13:37:16,434] Trial 8 finished with value: 0.948502994011976 and parameters: {'learning_rate': 0.0017191729061210572, 'depth': 9, 'subsample': 0.9131077611939269, 'colsample_bylevel': 0.4967689273043346, 'min_data_in_leaf': 5}. Best is trial 6 with value: 0.9577844311377246.\n",
      "[I 2025-06-02 13:37:23,128] Trial 9 finished with value: 0.9552395209580838 and parameters: {'learning_rate': 0.039229897268084325, 'depth': 2, 'subsample': 0.45901556435731306, 'colsample_bylevel': 0.07400559076673419, 'min_data_in_leaf': 34}. Best is trial 6 with value: 0.9577844311377246.\n",
      "[I 2025-06-02 13:38:18,451] Trial 10 finished with value: 0.9576347305389221 and parameters: {'learning_rate': 0.011275596212712225, 'depth': 7, 'subsample': 0.5902169464543925, 'colsample_bylevel': 0.983871843172579, 'min_data_in_leaf': 56}. Best is trial 6 with value: 0.9577844311377246.\n",
      "[I 2025-06-02 13:39:17,718] Trial 11 finished with value: 0.957934131736527 and parameters: {'learning_rate': 0.010720687886612837, 'depth': 7, 'subsample': 0.5788327388743326, 'colsample_bylevel': 0.9811276001831617, 'min_data_in_leaf': 58}. Best is trial 11 with value: 0.957934131736527.\n",
      "[I 2025-06-02 13:40:14,810] Trial 12 finished with value: 0.9559880239520958 and parameters: {'learning_rate': 0.009870498405520331, 'depth': 7, 'subsample': 0.7015214249771528, 'colsample_bylevel': 0.979372690899178, 'min_data_in_leaf': 54}. Best is trial 11 with value: 0.957934131736527.\n",
      "[I 2025-06-02 13:41:44,922] Trial 13 finished with value: 0.9574850299401197 and parameters: {'learning_rate': 0.011101884583183341, 'depth': 8, 'subsample': 0.3889225088927383, 'colsample_bylevel': 0.8278909328388837, 'min_data_in_leaf': 42}. Best is trial 11 with value: 0.957934131736527.\n",
      "[I 2025-06-02 13:47:06,536] Trial 14 finished with value: 0.9555389221556886 and parameters: {'learning_rate': 0.005776862722234448, 'depth': 10, 'subsample': 0.7283421259470293, 'colsample_bylevel': 0.8205932261941942, 'min_data_in_leaf': 68}. Best is trial 11 with value: 0.957934131736527.\n"
     ]
    },
    {
     "name": "stdout",
     "output_type": "stream",
     "text": [
      "Best hyperparameters: {'learning_rate': 0.010720687886612837, 'depth': 7, 'subsample': 0.5788327388743326, 'colsample_bylevel': 0.9811276001831617, 'min_data_in_leaf': 58}\n",
      "Best accuracy_score: 0.957934131736527\n"
     ]
    }
   ],
   "execution_count": 35
  },
  {
   "metadata": {},
   "cell_type": "markdown",
   "source": "### Xgboost"
  },
  {
   "metadata": {
    "ExecuteTime": {
     "end_time": "2025-06-02T10:56:30.299004Z",
     "start_time": "2025-06-02T10:47:06.707598Z"
    }
   },
   "cell_type": "code",
   "source": [
    "def objective(trial):\n",
    "    params = {\n",
    "        \"objective\": \"reg:squarederror\",\n",
    "        \"n_estimators\": 1000,\n",
    "        \"verbosity\": 0,\n",
    "        \"learning_rate\": trial.suggest_float(\"learning_rate\", 1e-3, 0.1, log=True),\n",
    "        \"max_depth\": trial.suggest_int(\"max_depth\", 1, 10),\n",
    "        \"subsample\": trial.suggest_float(\"subsample\", 0.05, 1.0),\n",
    "        \"colsample_bytree\": trial.suggest_float(\"colsample_bytree\", 0.05, 1.0),\n",
    "        \"min_child_weight\": trial.suggest_int(\"min_child_weight\", 1, 20),\n",
    "    }\n",
    "\n",
    "    xgb_model = xgb.XGBClassifier(**params,random_state=RANDOM_STATE)\n",
    "    xgb_pipe = Pipeline([\n",
    "    ('preprocessor', preprocessor),\n",
    "    ('model', xgb_model)])\n",
    "    xgb_pipe.fit(X_train, y_train)\n",
    "    predictions = xgb_pipe.predict(X_valid)\n",
    "    score = accuracy_score(y_valid, predictions)\n",
    "    return score\n",
    "xgb_study = optuna.create_study(direction='maximize')\n",
    "xgb_study.optimize(objective, n_trials=15)\n",
    "print(f'Best hyperparameters: {xgb_study.best_params}')\n",
    "print(f'Best accuracy_score: {xgb_study.best_value}')"
   ],
   "outputs": [
    {
     "name": "stderr",
     "output_type": "stream",
     "text": [
      "[I 2025-06-02 13:47:06,709] A new study created in memory with name: no-name-99db8017-00a0-452e-85a2-fdd77ecd3ffd\n",
      "[I 2025-06-02 13:47:22,793] Trial 0 finished with value: 0.9449101796407186 and parameters: {'learning_rate': 0.0021611705429213277, 'max_depth': 3, 'subsample': 0.21572292175891, 'colsample_bytree': 0.2536828306902902, 'min_child_weight': 6}. Best is trial 0 with value: 0.9449101796407186.\n",
      "[I 2025-06-02 13:47:39,721] Trial 1 finished with value: 0.9525449101796407 and parameters: {'learning_rate': 0.08794405682457443, 'max_depth': 4, 'subsample': 0.25519391148782444, 'colsample_bytree': 0.4360372565238209, 'min_child_weight': 7}. Best is trial 1 with value: 0.9525449101796407.\n",
      "[I 2025-06-02 13:48:42,979] Trial 2 finished with value: 0.9577844311377246 and parameters: {'learning_rate': 0.023084715806441992, 'max_depth': 9, 'subsample': 0.9402400335453073, 'colsample_bytree': 0.39692584389529345, 'min_child_weight': 4}. Best is trial 2 with value: 0.9577844311377246.\n",
      "[I 2025-06-02 13:49:00,351] Trial 3 finished with value: 0.937874251497006 and parameters: {'learning_rate': 0.0018549224564883462, 'max_depth': 3, 'subsample': 0.4949671559295905, 'colsample_bytree': 0.6204227239906983, 'min_child_weight': 3}. Best is trial 2 with value: 0.9577844311377246.\n",
      "[I 2025-06-02 13:49:16,459] Trial 4 finished with value: 0.9507485029940119 and parameters: {'learning_rate': 0.014369843863103863, 'max_depth': 3, 'subsample': 0.659198610119184, 'colsample_bytree': 0.7844937385779089, 'min_child_weight': 1}. Best is trial 2 with value: 0.9577844311377246.\n",
      "[I 2025-06-02 13:50:21,632] Trial 5 finished with value: 0.9555389221556886 and parameters: {'learning_rate': 0.014076891048743741, 'max_depth': 9, 'subsample': 0.9138850331075072, 'colsample_bytree': 0.7431336685784827, 'min_child_weight': 6}. Best is trial 2 with value: 0.9577844311377246.\n",
      "[I 2025-06-02 13:50:48,378] Trial 6 finished with value: 0.9491017964071856 and parameters: {'learning_rate': 0.002960164752360808, 'max_depth': 5, 'subsample': 0.6030597819766442, 'colsample_bytree': 0.7962215317862572, 'min_child_weight': 18}. Best is trial 2 with value: 0.9577844311377246.\n",
      "[I 2025-06-02 13:51:18,430] Trial 7 finished with value: 0.918562874251497 and parameters: {'learning_rate': 0.09842981203875051, 'max_depth': 7, 'subsample': 0.06679626415371241, 'colsample_bytree': 0.46760429469922615, 'min_child_weight': 15}. Best is trial 2 with value: 0.9577844311377246.\n",
      "[I 2025-06-02 13:51:34,178] Trial 8 finished with value: 0.9525449101796407 and parameters: {'learning_rate': 0.014375917000643354, 'max_depth': 3, 'subsample': 0.4408565256537593, 'colsample_bytree': 0.661419604278407, 'min_child_weight': 18}. Best is trial 2 with value: 0.9577844311377246.\n",
      "[I 2025-06-02 13:52:04,442] Trial 9 finished with value: 0.9423652694610778 and parameters: {'learning_rate': 0.0013365251770047501, 'max_depth': 6, 'subsample': 0.5307542056857683, 'colsample_bytree': 0.29069892686621474, 'min_child_weight': 9}. Best is trial 2 with value: 0.9577844311377246.\n",
      "[I 2025-06-02 13:53:08,099] Trial 10 finished with value: 0.9543413173652695 and parameters: {'learning_rate': 0.03958297033780125, 'max_depth': 10, 'subsample': 0.9883594450288234, 'colsample_bytree': 0.9832517716453366, 'min_child_weight': 13}. Best is trial 2 with value: 0.9577844311377246.\n",
      "[I 2025-06-02 13:54:37,232] Trial 11 finished with value: 0.8917664670658683 and parameters: {'learning_rate': 0.006933482620890649, 'max_depth': 10, 'subsample': 0.9699597628897844, 'colsample_bytree': 0.06189943472597442, 'min_child_weight': 5}. Best is trial 2 with value: 0.9577844311377246.\n",
      "[I 2025-06-02 13:55:24,633] Trial 12 finished with value: 0.9547904191616766 and parameters: {'learning_rate': 0.02727856627487476, 'max_depth': 8, 'subsample': 0.7897780029365159, 'colsample_bytree': 0.9960519670043547, 'min_child_weight': 11}. Best is trial 2 with value: 0.9577844311377246.\n",
      "[I 2025-06-02 13:56:20,726] Trial 13 finished with value: 0.9582335329341317 and parameters: {'learning_rate': 0.009232057312668594, 'max_depth': 8, 'subsample': 0.8034624917623149, 'colsample_bytree': 0.3336221047419323, 'min_child_weight': 1}. Best is trial 13 with value: 0.9582335329341317.\n",
      "[I 2025-06-02 13:56:30,295] Trial 14 finished with value: 0.926497005988024 and parameters: {'learning_rate': 0.005524259410987064, 'max_depth': 1, 'subsample': 0.7905059931737473, 'colsample_bytree': 0.3214326565929496, 'min_child_weight': 1}. Best is trial 13 with value: 0.9582335329341317.\n"
     ]
    },
    {
     "name": "stdout",
     "output_type": "stream",
     "text": [
      "Best hyperparameters: {'learning_rate': 0.009232057312668594, 'max_depth': 8, 'subsample': 0.8034624917623149, 'colsample_bytree': 0.3336221047419323, 'min_child_weight': 1}\n",
      "Best accuracy_score: 0.9582335329341317\n"
     ]
    }
   ],
   "execution_count": 36
  },
  {
   "metadata": {},
   "cell_type": "markdown",
   "source": "### Torch NN"
  },
  {
   "metadata": {
    "ExecuteTime": {
     "end_time": "2025-06-02T10:56:37.751552Z",
     "start_time": "2025-06-02T10:56:30.424766Z"
    }
   },
   "cell_type": "code",
   "source": [
    "# Transform data into pytorch tensors\n",
    "def torch_preprocess(X, y, artist_encoder=None, decade_encoder=None, scaler=None, fit=False):\n",
    "    X = X.copy()\n",
    "    if fit:\n",
    "        artist_encoder = TargetEncoder(smooth=\"auto\", random_state=RANDOM_STATE)\n",
    "        X['artist'] = artist_encoder.fit_transform(X.iloc[:,0:1], y)\n",
    "    else:\n",
    "        X['artist'] = artist_encoder.transform(X.iloc[:,0:1])\n",
    "    if fit:\n",
    "        decade_encoder = OneHotEncoder(drop='first', sparse_output=False)\n",
    "        decade_encoded = decade_encoder.fit_transform(X[['decade_of_release']])\n",
    "    else:\n",
    "        decade_encoded = decade_encoder.transform(X[['decade_of_release']])\n",
    "\n",
    "    decade_df = pd.DataFrame(\n",
    "        decade_encoded,\n",
    "        columns=decade_encoder.get_feature_names_out(['decade_of_release']),\n",
    "        index=X.index\n",
    "    )\n",
    "\n",
    "    X = pd.concat([X, decade_df], axis=1).drop(['decade_of_release'], axis=1)\n",
    "\n",
    "    if fit:\n",
    "        scaler = StandardScaler()\n",
    "        X_scaled = scaler.fit_transform(X)\n",
    "    else:\n",
    "        X_scaled = scaler.transform(X)\n",
    "\n",
    "    X_tensor = torch.tensor(X_scaled.astype(np.float32), dtype=torch.float32)\n",
    "    y_tensor = torch.tensor(y.values, dtype=torch.float32).reshape(-1, 1)\n",
    "\n",
    "    if fit:\n",
    "        return X_tensor, y_tensor, artist_encoder, decade_encoder, scaler\n",
    "    else:\n",
    "        return X_tensor, y_tensor\n",
    "\n",
    "X_train_tensor, y_train_tensor, artist_enc, decade_enc, scaler = torch_preprocess(\n",
    "    X_train, y_train, fit=True\n",
    ")\n",
    "\n",
    "X_valid_tensor, y_valid_tensor = torch_preprocess(\n",
    "    X_valid, y_valid,\n",
    "    artist_encoder=artist_enc,\n",
    "    decade_encoder=decade_enc,\n",
    "    scaler=scaler,\n",
    "    fit=False\n",
    ")\n",
    "\n",
    "train_dataset = TensorDataset(X_train_tensor, y_train_tensor)\n",
    "valid_dataset = TensorDataset(X_valid_tensor, y_valid_tensor)\n",
    "train_loader = DataLoader(train_dataset, batch_size=200, shuffle=True)\n",
    "valid_loader = DataLoader(valid_dataset, batch_size=200)\n",
    "\n",
    "# Define model\n",
    "class NeuralNetwork(nn.Module):\n",
    "    def __init__(self, input_dim):\n",
    "        super(NeuralNetwork, self).__init__()\n",
    "        self.model = nn.Sequential(\n",
    "            nn.Linear(input_dim, 500),\n",
    "            nn.ReLU(),\n",
    "            nn.Linear(500, 50),\n",
    "            nn.ReLU(),\n",
    "            nn.Dropout(0.5),\n",
    "            nn.Linear(50, 5),\n",
    "            nn.ReLU(),\n",
    "            nn.Linear(5, 1),\n",
    "            nn.Sigmoid()\n",
    "        )\n",
    "\n",
    "    def forward(self, x):\n",
    "        return self.model(x)\n",
    "\n",
    "    def predict(self, x, threshold=0.5):\n",
    "        with torch.no_grad():\n",
    "            probabilities = self.model(x)\n",
    "            return (probabilities >= threshold).int()\n",
    "\n",
    "# init\n",
    "input_dim = X_train_tensor.shape[1]\n",
    "model = NeuralNetwork(input_dim)\n",
    "criterion = nn.BCELoss()\n",
    "optimizer = optim.Adam(model.parameters())\n",
    "\n",
    "# Main function\n",
    "def train_model(model, train_loader, valid_loader, criterion, optimizer, epochs=1000, patience=10, min_delta=0.001):\n",
    "    best_valid_loss = float('inf')\n",
    "    best_weights = None\n",
    "    patience_counter = 0\n",
    "\n",
    "    for epoch in range(epochs):\n",
    "        # Train\n",
    "        model.train()\n",
    "        train_loss = 0\n",
    "        for X_batch, y_batch in train_loader:\n",
    "            optimizer.zero_grad()\n",
    "            y_pred = model(X_batch)\n",
    "            loss = criterion(y_pred, y_batch)\n",
    "            loss.backward()\n",
    "            optimizer.step()\n",
    "            train_loss += loss.item() * X_batch.size(0)\n",
    "        train_loss /= len(train_loader.dataset)\n",
    "\n",
    "        # Validation\n",
    "        model.eval()\n",
    "        valid_loss = 0\n",
    "        with torch.no_grad():\n",
    "            for X_batch, y_batch in valid_loader:\n",
    "                y_pred = model(X_batch)\n",
    "                loss = criterion(y_pred, y_batch)\n",
    "                valid_loss += loss.item() * X_batch.size(0)\n",
    "        valid_loss /= len(valid_loader.dataset)\n",
    "\n",
    "        # Progress report\n",
    "        print(f'Epoch {epoch+1}/{epochs}, Train Loss: {train_loss:.4f}, Valid Loss: {valid_loss:.4f}')\n",
    "\n",
    "        # Early stopping check\n",
    "        if valid_loss < best_valid_loss - min_delta:\n",
    "            best_valid_loss = valid_loss\n",
    "            best_weights = model.state_dict().copy()\n",
    "            patience_counter = 0\n",
    "        else:\n",
    "            patience_counter += 1\n",
    "\n",
    "        if patience_counter >= patience:\n",
    "            print(f'Early stopping at epoch {epoch+1}')\n",
    "            if best_weights is not None:\n",
    "                model.load_state_dict(best_weights)\n",
    "            break\n",
    "\n",
    "    # Load best weights if early stopped\n",
    "    if best_weights is not None:\n",
    "        model.load_state_dict(best_weights)\n",
    "\n",
    "    return model\n",
    "\n",
    "# Model training\n",
    "torch_model = train_model(\n",
    "    model,\n",
    "    train_loader,\n",
    "    valid_loader,\n",
    "    criterion,\n",
    "    optimizer,\n",
    "    epochs=100,\n",
    "    patience=10,\n",
    "    min_delta=0.0001\n",
    ")\n",
    "torch_score = accuracy_score(y_valid_tensor, torch_model.predict(X_valid_tensor))\n",
    "print(f'TorchNN accuracy_score - {torch_score}')"
   ],
   "outputs": [
    {
     "name": "stdout",
     "output_type": "stream",
     "text": [
      "Epoch 1/100, Train Loss: 0.4125, Valid Loss: 0.1888\n",
      "Epoch 2/100, Train Loss: 0.1511, Valid Loss: 0.1396\n",
      "Epoch 3/100, Train Loss: 0.0899, Valid Loss: 0.1499\n",
      "Epoch 4/100, Train Loss: 0.0670, Valid Loss: 0.1415\n",
      "Epoch 5/100, Train Loss: 0.0449, Valid Loss: 0.1756\n",
      "Epoch 6/100, Train Loss: 0.0389, Valid Loss: 0.1893\n",
      "Epoch 7/100, Train Loss: 0.0295, Valid Loss: 0.2344\n",
      "Epoch 8/100, Train Loss: 0.0249, Valid Loss: 0.2167\n",
      "Epoch 9/100, Train Loss: 0.0197, Valid Loss: 0.2541\n",
      "Epoch 10/100, Train Loss: 0.0227, Valid Loss: 0.2260\n",
      "Epoch 11/100, Train Loss: 0.0169, Valid Loss: 0.2799\n",
      "Epoch 12/100, Train Loss: 0.0166, Valid Loss: 0.2726\n",
      "Early stopping at epoch 12\n",
      "TorchNN accuracy_score - 0.9450598802395209\n"
     ]
    }
   ],
   "execution_count": 37
  },
  {
   "metadata": {},
   "cell_type": "markdown",
   "source": "Now I want to find out how long it takes to predict each model."
  },
  {
   "metadata": {
    "ExecuteTime": {
     "end_time": "2025-06-02T10:58:43.586294Z",
     "start_time": "2025-06-02T10:57:42.597377Z"
    }
   },
   "cell_type": "code",
   "source": [
    "catboost_model = CatBoostClassifier(learning_rate = 0.08765108142833057, depth = 7, subsample = 0.42624958898274057, colsample_bylevel = 0.4159606439575746, min_data_in_leaf = 1, logging_level = 'Silent', random_state = RANDOM_STATE)\n",
    "cat_pipe = Pipeline([\n",
    "    ('preprocessor', preprocessor),\n",
    "    ('model', catboost_model)])\n",
    "cat_pipe.fit(X_train, y_train)\n",
    "start_time = time.time()\n",
    "catboost_predict = cat_pipe.predict(X_valid)\n",
    "print(f'Catboost prediction time: {time.time() - start_time:.2f}\\n Catboost best score: {catboost_study.best_value:.4f}')\n",
    "\n",
    "start_time = time.time()\n",
    "torch_predict = torch_model.predict(X_valid_tensor)\n",
    "print(f'TorchNN prediction time: {time.time() - start_time:.2f}\\n TorchNN best score: {torch_score:.4f}')\n",
    "\n",
    "xgb_model = xgb.XGBClassifier(learning_rate = 0.028929893320248787, max_depth = 10, subsample = 0.5388792823570937, colsample_bytree = 0.33367343724613546, min_child_weight = 1, random_state = RANDOM_STATE)\n",
    "xgb_pipe = Pipeline([\n",
    "    ('preprocessor', preprocessor),\n",
    "    ('model', xgb_model)])\n",
    "xgb_pipe.fit(X_train, y_train)\n",
    "start_time = time.time()\n",
    "xgb_predict = xgb_pipe.predict(X_valid)\n",
    "print(f'Xgboost prediction time: {time.time() - start_time:.2f}\\n Xgboost best score: {xgb_study.best_value:.4f}')\n",
    "\n",
    "reg_model = LogisticRegression(penalty = \"l1\", C = 0.05708097483824219, solver = \"saga\", max_iter = 50000, n_jobs=-1 ,random_state = RANDOM_STATE)\n",
    "reg_pipe = Pipeline([\n",
    "    ('preprocessor', preprocessor),\n",
    "    ('model', reg_model)])\n",
    "reg_pipe.fit(X_train, y_train)\n",
    "start_time = time.time()\n",
    "reg_predict = reg_pipe.predict(X_valid)\n",
    "print(f'Log regression prediction time: {time.time() - start_time:.2f}\\n Log regression best score: {reg_study.best_value:.4f}')"
   ],
   "outputs": [
    {
     "name": "stdout",
     "output_type": "stream",
     "text": [
      "Catboost prediction time: 0.56\n",
      " Catboost best score: 0.9579\n",
      "TorchNN prediction time: 0.01\n",
      " TorchNN best score: 0.9451\n",
      "Xgboost prediction time: 0.07\n",
      " Xgboost best score: 0.9582\n",
      "Log regression prediction time: 0.04\n",
      " Log regression best score: 0.9546\n"
     ]
    }
   ],
   "execution_count": 39
  },
  {
   "cell_type": "markdown",
   "source": "Xgboost shows accuracy similar to Catboost, but it works much faster, i choose him for final model",
   "metadata": {
    "id": "t2PUEs1Udh45"
   }
  },
  {
   "cell_type": "markdown",
   "source": "# Score Interpretation",
   "metadata": {
    "id": "5AUksX-JCiu2"
   }
  },
  {
   "cell_type": "markdown",
   "source": "Calculating scores",
   "metadata": {
    "id": "Wi49OR8sH0rQ"
   }
  },
  {
   "cell_type": "code",
   "source": [
    "xgb_pipe.fit(X_train_valid, y_train_valid)\n",
    "xgb_predict = xgb_pipe.predict(X_test)\n",
    "xgb_accuracy = accuracy_score(y_test, xgb_predict)\n",
    "xgb_f1 = f1_score(y_test, xgb_predict)\n",
    "xgb_roc_auc = roc_auc_score(y_test, xgb_predict)\n",
    "print(f'accuracy: {xgb_accuracy:.2f}\\n f1 score: {xgb_f1:.2f}\\n auc: {xgb_roc_auc:.2f}')"
   ],
   "metadata": {
    "colab": {
     "base_uri": "https://localhost:8080/"
    },
    "id": "izVcgAiRDUQ7",
    "outputId": "5b06a998-26b9-4aba-9434-c86484e1087e",
    "ExecuteTime": {
     "end_time": "2025-06-02T11:00:58.024113Z",
     "start_time": "2025-06-02T11:00:34.852881Z"
    }
   },
   "outputs": [
    {
     "name": "stdout",
     "output_type": "stream",
     "text": [
      "accuracy: 0.96\n",
      " f1 score: 0.97\n",
      " auc: 0.96\n"
     ]
    }
   ],
   "execution_count": 40
  },
  {
   "cell_type": "markdown",
   "source": [
    "View Confusion Matrix for test data and the predictions"
   ],
   "metadata": {
    "id": "GFu5PdUYH6rP"
   }
  },
  {
   "cell_type": "code",
   "source": "confusion_matrix(y_test, xgb_predict, labels=[1, 0])",
   "metadata": {
    "colab": {
     "base_uri": "https://localhost:8080/"
    },
    "id": "EnLcy01YDYwO",
    "outputId": "e0c4b214-579a-445d-b9ea-92654aaf0d8c",
    "ExecuteTime": {
     "end_time": "2025-06-02T11:00:58.351062Z",
     "start_time": "2025-06-02T11:00:58.339697Z"
    }
   },
   "outputs": [
    {
     "data": {
      "text/plain": [
       "array([[3527,   71],\n",
       "       [ 179, 2904]], dtype=int64)"
      ]
     },
     "execution_count": 41,
     "metadata": {},
     "output_type": "execute_result"
    }
   ],
   "execution_count": 41
  },
  {
   "cell_type": "markdown",
   "source": [
    "Printing the classification report for test data and the predictions"
   ],
   "metadata": {
    "id": "luxq_0yQIEoS"
   }
  },
  {
   "cell_type": "code",
   "source": "print(classification_report(y_test, xgb_predict))",
   "metadata": {
    "colab": {
     "base_uri": "https://localhost:8080/"
    },
    "id": "n6IzKJdKDkJd",
    "outputId": "3dc753a2-06cb-47bf-b5bf-5a24f9da4915",
    "ExecuteTime": {
     "end_time": "2025-06-02T11:01:06.534109Z",
     "start_time": "2025-06-02T11:01:06.516111Z"
    }
   },
   "outputs": [
    {
     "name": "stdout",
     "output_type": "stream",
     "text": [
      "              precision    recall  f1-score   support\n",
      "\n",
      "           0       0.98      0.94      0.96      3083\n",
      "           1       0.95      0.98      0.97      3598\n",
      "\n",
      "    accuracy                           0.96      6681\n",
      "   macro avg       0.96      0.96      0.96      6681\n",
      "weighted avg       0.96      0.96      0.96      6681\n",
      "\n"
     ]
    }
   ],
   "execution_count": 42
  },
  {
   "cell_type": "code",
   "source": "y_prob = xgb_pipe.predict_proba(X_test)",
   "metadata": {
    "id": "9u8H8Gc_vUXt",
    "ExecuteTime": {
     "end_time": "2025-06-02T11:01:08.907842Z",
     "start_time": "2025-06-02T11:01:08.826842Z"
    }
   },
   "outputs": [],
   "execution_count": 43
  },
  {
   "cell_type": "code",
   "source": [
    "prob_1 = y_prob[::,1]"
   ],
   "metadata": {
    "id": "XwNlC3aDwsGP",
    "ExecuteTime": {
     "end_time": "2025-06-02T11:01:10.319949Z",
     "start_time": "2025-06-02T11:01:10.313998Z"
    }
   },
   "outputs": [],
   "execution_count": 44
  },
  {
   "cell_type": "code",
   "source": [
    "fpr, tpr, _ = roc_curve(y_test,  prob_1)\n",
    "\n",
    "#create ROC curve\n",
    "plt.plot(fpr,tpr, label=\"AUC=\"+str(xgb_roc_auc))\n",
    "plt.ylabel('Sensitivity')\n",
    "plt.xlabel('1-Specificity')\n",
    "plt.legend(loc=4)\n",
    "plt.show()\n"
   ],
   "metadata": {
    "colab": {
     "base_uri": "https://localhost:8080/",
     "height": 394
    },
    "id": "yekwsTyACfKI",
    "outputId": "7a70d22a-31e0-40d1-964a-c589913eb7d9",
    "ExecuteTime": {
     "end_time": "2025-06-02T11:01:11.480389Z",
     "start_time": "2025-06-02T11:01:11.354387Z"
    }
   },
   "outputs": [
    {
     "data": {
      "text/plain": [
       "<Figure size 1200x1500 with 1 Axes>"
      ],
      "image/png": "[encoded data removed]"
     },
     "metadata": {},
     "output_type": "display_data"
    }
   ],
   "execution_count": 45
  }
 ]
}
